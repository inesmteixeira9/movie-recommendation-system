{
  "cells": [
    {
      "cell_type": "code",
      "execution_count": 1,
      "metadata": {
        "colab": {
          "base_uri": "https://localhost:8080/"
        },
        "id": "QjgjnSewmthg",
        "outputId": "d4e42da3-f9dd-4eb9-fa5f-572c5bcba306"
      },
      "outputs": [],
      "source": [
        "import os\n",
        "import sys\n",
        "from datetime import datetime\n",
        "import re\n",
        "import pandas as pd\n",
        "import numpy as np\n",
        "from sklearn.preprocessing import MinMaxScaler\n",
        "from sklearn.feature_extraction.text import TfidfVectorizer\n",
        "from scipy.sparse import hstack\n",
        "import pickle"
      ]
    },
    {
      "cell_type": "markdown",
      "metadata": {},
      "source": [
        "##### Read last processed movie cleaned data"
      ]
    },
    {
      "cell_type": "code",
      "execution_count": 36,
      "metadata": {},
      "outputs": [
        {
          "name": "stdout",
          "output_type": "stream",
          "text": [
            "The last processed date is: 2024-07-11\n"
          ]
        }
      ],
      "source": [
        "# Get data directories\n",
        "current_dir = os.getcwd()\n",
        "parent_dir = os.path.dirname(current_dir)\n",
        "sys.path.append(parent_dir)\n",
        "\n",
        "# Define the path to the processed data folder\n",
        "processed_data_path = parent_dir + '/data/processed/'\n",
        "\n",
        "# List all files in the processed data folder\n",
        "files = os.listdir(processed_data_path)\n",
        "\n",
        "# Regular expression to match the date pattern in the filenames\n",
        "date_pattern = re.compile(r'movies_cleaned_data_(\\d{4}-\\d{2}-\\d{2})\\.csv')\n",
        "\n",
        "# Extract dates from filenames\n",
        "dates = []\n",
        "for file in files:\n",
        "    match = date_pattern.search(file)\n",
        "    if match:\n",
        "        date_str = match.group(1)\n",
        "        try:\n",
        "            # Convert date string to datetime object\n",
        "            date = datetime.strptime(date_str, '%Y-%m-%d')\n",
        "            dates.append(date)\n",
        "        except ValueError:\n",
        "            # Ignore files with invalid date formats\n",
        "            continue\n",
        "\n",
        "# Determine the most recent date\n",
        "if dates:\n",
        "    last_processed_date = max(dates).strftime('%Y-%m-%d')\n",
        "    print(f\"The last processed date is: {last_processed_date}\")\n",
        "else:\n",
        "    print(\"No processed files found.\")\n",
        "\n",
        "movies_cleaned_data_path = f'{processed_data_path}/movies_cleaned_data_{last_processed_date}.csv'\n",
        "\n",
        "df = pd.read_csv(movies_cleaned_data_path, engine='python', on_bad_lines='skip')"
      ]
    },
    {
      "cell_type": "code",
      "execution_count": 11,
      "metadata": {},
      "outputs": [],
      "source": [
        "# Drop unnamed column\n",
        "if 'Unnamed: 0' in df.columns:\n",
        "    df = df.drop(columns='Unnamed: 0')"
      ]
    },
    {
      "cell_type": "code",
      "execution_count": 12,
      "metadata": {
        "colab": {
          "base_uri": "https://localhost:8080/",
          "height": 206
        },
        "id": "2sHUkC4Ux5W7",
        "outputId": "4579a0d3-4dcd-4a57-ef49-456dc146dc5d"
      },
      "outputs": [
        {
          "data": {
            "text/html": [
              "<div>\n",
              "<style scoped>\n",
              "    .dataframe tbody tr th:only-of-type {\n",
              "        vertical-align: middle;\n",
              "    }\n",
              "\n",
              "    .dataframe tbody tr th {\n",
              "        vertical-align: top;\n",
              "    }\n",
              "\n",
              "    .dataframe thead th {\n",
              "        text-align: right;\n",
              "    }\n",
              "</style>\n",
              "<table border=\"1\" class=\"dataframe\">\n",
              "  <thead>\n",
              "    <tr style=\"text-align: right;\">\n",
              "      <th></th>\n",
              "      <th>id</th>\n",
              "      <th>title</th>\n",
              "      <th>overview</th>\n",
              "      <th>genres</th>\n",
              "      <th>popularity</th>\n",
              "      <th>vote_average</th>\n",
              "      <th>release_year</th>\n",
              "      <th>keywords</th>\n",
              "      <th>title_wrangled</th>\n",
              "    </tr>\n",
              "  </thead>\n",
              "  <tbody>\n",
              "    <tr>\n",
              "      <th>0</th>\n",
              "      <td>862</td>\n",
              "      <td>Toy Story</td>\n",
              "      <td>['led', 'toy', 'live', 'happili', 'room', 'bir...</td>\n",
              "      <td>['anim', 'comedi', 'famili']</td>\n",
              "      <td>21.946943</td>\n",
              "      <td>7.7</td>\n",
              "      <td>1995.0</td>\n",
              "      <td>['jealousi', 'toy', 'boy', 'friendship', 'frie...</td>\n",
              "      <td>['toy', 'stori']</td>\n",
              "    </tr>\n",
              "    <tr>\n",
              "      <th>1</th>\n",
              "      <td>8844</td>\n",
              "      <td>Jumanji</td>\n",
              "      <td>['sibl', 'discov', 'enchant', 'board', 'game',...</td>\n",
              "      <td>['adventur', 'fantasi', 'famili']</td>\n",
              "      <td>17.015539</td>\n",
              "      <td>6.9</td>\n",
              "      <td>1995.0</td>\n",
              "      <td>['board gam', 'disappear', 'based on children ...</td>\n",
              "      <td>['jumanji']</td>\n",
              "    </tr>\n",
              "    <tr>\n",
              "      <th>2</th>\n",
              "      <td>15602</td>\n",
              "      <td>Grumpier Old Men</td>\n",
              "      <td>['famili', 'wed', 'reignit', 'ancient', 'feud'...</td>\n",
              "      <td>['romanc', 'comedi']</td>\n",
              "      <td>11.712900</td>\n",
              "      <td>6.5</td>\n",
              "      <td>1995.0</td>\n",
              "      <td>['fish', 'best friend', 'duringcreditssting', ...</td>\n",
              "      <td>['grumpier', 'old', 'men']</td>\n",
              "    </tr>\n",
              "    <tr>\n",
              "      <th>3</th>\n",
              "      <td>31357</td>\n",
              "      <td>Waiting to Exhale</td>\n",
              "      <td>['cheat', 'mistreat', 'step', 'women', 'hold',...</td>\n",
              "      <td>['comedi', 'drama', 'romanc']</td>\n",
              "      <td>3.859495</td>\n",
              "      <td>6.1</td>\n",
              "      <td>1995.0</td>\n",
              "      <td>['based on novel', 'interracial relationship',...</td>\n",
              "      <td>['wait', 'exhal']</td>\n",
              "    </tr>\n",
              "    <tr>\n",
              "      <th>4</th>\n",
              "      <td>11862</td>\n",
              "      <td>Father of the Bride Part II</td>\n",
              "      <td>['bank', 'recov', 'daughter', 'wed', 'receiv',...</td>\n",
              "      <td>['comedi']</td>\n",
              "      <td>8.387519</td>\n",
              "      <td>5.7</td>\n",
              "      <td>1995.0</td>\n",
              "      <td>['babi', 'midlife crisi', 'confid', 'age', 'da...</td>\n",
              "      <td>['father', 'part', 'ii']</td>\n",
              "    </tr>\n",
              "  </tbody>\n",
              "</table>\n",
              "</div>"
            ],
            "text/plain": [
              "      id                        title  \\\n",
              "0    862                    Toy Story   \n",
              "1   8844                      Jumanji   \n",
              "2  15602             Grumpier Old Men   \n",
              "3  31357            Waiting to Exhale   \n",
              "4  11862  Father of the Bride Part II   \n",
              "\n",
              "                                            overview  \\\n",
              "0  ['led', 'toy', 'live', 'happili', 'room', 'bir...   \n",
              "1  ['sibl', 'discov', 'enchant', 'board', 'game',...   \n",
              "2  ['famili', 'wed', 'reignit', 'ancient', 'feud'...   \n",
              "3  ['cheat', 'mistreat', 'step', 'women', 'hold',...   \n",
              "4  ['bank', 'recov', 'daughter', 'wed', 'receiv',...   \n",
              "\n",
              "                              genres  popularity  vote_average  release_year  \\\n",
              "0       ['anim', 'comedi', 'famili']   21.946943           7.7        1995.0   \n",
              "1  ['adventur', 'fantasi', 'famili']   17.015539           6.9        1995.0   \n",
              "2               ['romanc', 'comedi']   11.712900           6.5        1995.0   \n",
              "3      ['comedi', 'drama', 'romanc']    3.859495           6.1        1995.0   \n",
              "4                         ['comedi']    8.387519           5.7        1995.0   \n",
              "\n",
              "                                            keywords  \\\n",
              "0  ['jealousi', 'toy', 'boy', 'friendship', 'frie...   \n",
              "1  ['board gam', 'disappear', 'based on children ...   \n",
              "2  ['fish', 'best friend', 'duringcreditssting', ...   \n",
              "3  ['based on novel', 'interracial relationship',...   \n",
              "4  ['babi', 'midlife crisi', 'confid', 'age', 'da...   \n",
              "\n",
              "               title_wrangled  \n",
              "0            ['toy', 'stori']  \n",
              "1                 ['jumanji']  \n",
              "2  ['grumpier', 'old', 'men']  \n",
              "3           ['wait', 'exhal']  \n",
              "4    ['father', 'part', 'ii']  "
            ]
          },
          "execution_count": 12,
          "metadata": {},
          "output_type": "execute_result"
        }
      ],
      "source": [
        "df.head()"
      ]
    },
    {
      "cell_type": "markdown",
      "metadata": {
        "id": "ohvKUDdF-o1L"
      },
      "source": [
        "## Normalize Numeric Data"
      ]
    },
    {
      "cell_type": "code",
      "execution_count": 23,
      "metadata": {
        "colab": {
          "base_uri": "https://localhost:8080/"
        },
        "id": "GpY0_qybYj50",
        "outputId": "125f2cab-dfd2-44e3-f4e1-55ff1f19b8dc"
      },
      "outputs": [
        {
          "data": {
            "text/plain": [
              "popularity      0\n",
              "release_year    0\n",
              "vote_average    0\n",
              "dtype: int64"
            ]
          },
          "execution_count": 23,
          "metadata": {},
          "output_type": "execute_result"
        }
      ],
      "source": [
        "num_cols = ['popularity', 'release_year', 'vote_average']\n",
        "\n",
        "# Impute none values with mean\n",
        "for col in num_cols:\n",
        "    df[col] = df[col].fillna(df[col].mean())\n",
        "\n",
        "df[num_cols].isnull().sum()"
      ]
    },
    {
      "cell_type": "code",
      "execution_count": 25,
      "metadata": {
        "colab": {
          "base_uri": "https://localhost:8080/",
          "height": 423
        },
        "id": "AjF2DlXpt8u6",
        "outputId": "6b18d8ed-978c-40a9-8a8a-507e72dbd6af"
      },
      "outputs": [],
      "source": [
        "# Normalize numeric columns\n",
        "scaler = MinMaxScaler()\n",
        "\n",
        "for col in num_cols:\n",
        "  df[col] = scaler.fit_transform(np.array(df[col]).reshape(-1, 1)).flatten()\n",
        "\n",
        "normalized_num_features_df = df[num_cols]"
      ]
    },
    {
      "cell_type": "code",
      "execution_count": 27,
      "metadata": {},
      "outputs": [
        {
          "data": {
            "text/html": [
              "<div>\n",
              "<style scoped>\n",
              "    .dataframe tbody tr th:only-of-type {\n",
              "        vertical-align: middle;\n",
              "    }\n",
              "\n",
              "    .dataframe tbody tr th {\n",
              "        vertical-align: top;\n",
              "    }\n",
              "\n",
              "    .dataframe thead th {\n",
              "        text-align: right;\n",
              "    }\n",
              "</style>\n",
              "<table border=\"1\" class=\"dataframe\">\n",
              "  <thead>\n",
              "    <tr style=\"text-align: right;\">\n",
              "      <th></th>\n",
              "      <th>popularity</th>\n",
              "      <th>release_year</th>\n",
              "      <th>vote_average</th>\n",
              "    </tr>\n",
              "  </thead>\n",
              "  <tbody>\n",
              "    <tr>\n",
              "      <th>count</th>\n",
              "      <td>45493.000000</td>\n",
              "      <td>45493.000000</td>\n",
              "      <td>45493.000000</td>\n",
              "    </tr>\n",
              "    <tr>\n",
              "      <th>mean</th>\n",
              "      <td>0.005377</td>\n",
              "      <td>0.807587</td>\n",
              "      <td>0.563237</td>\n",
              "    </tr>\n",
              "    <tr>\n",
              "      <th>std</th>\n",
              "      <td>0.010976</td>\n",
              "      <td>0.165315</td>\n",
              "      <td>0.190484</td>\n",
              "    </tr>\n",
              "    <tr>\n",
              "      <th>min</th>\n",
              "      <td>0.000000</td>\n",
              "      <td>0.000000</td>\n",
              "      <td>0.000000</td>\n",
              "    </tr>\n",
              "    <tr>\n",
              "      <th>25%</th>\n",
              "      <td>0.000732</td>\n",
              "      <td>0.712329</td>\n",
              "      <td>0.500000</td>\n",
              "    </tr>\n",
              "    <tr>\n",
              "      <th>50%</th>\n",
              "      <td>0.002094</td>\n",
              "      <td>0.869863</td>\n",
              "      <td>0.600000</td>\n",
              "    </tr>\n",
              "    <tr>\n",
              "      <th>75%</th>\n",
              "      <td>0.006817</td>\n",
              "      <td>0.938356</td>\n",
              "      <td>0.680000</td>\n",
              "    </tr>\n",
              "    <tr>\n",
              "      <th>max</th>\n",
              "      <td>1.000000</td>\n",
              "      <td>1.000000</td>\n",
              "      <td>1.000000</td>\n",
              "    </tr>\n",
              "  </tbody>\n",
              "</table>\n",
              "</div>"
            ],
            "text/plain": [
              "         popularity  release_year  vote_average\n",
              "count  45493.000000  45493.000000  45493.000000\n",
              "mean       0.005377      0.807587      0.563237\n",
              "std        0.010976      0.165315      0.190484\n",
              "min        0.000000      0.000000      0.000000\n",
              "25%        0.000732      0.712329      0.500000\n",
              "50%        0.002094      0.869863      0.600000\n",
              "75%        0.006817      0.938356      0.680000\n",
              "max        1.000000      1.000000      1.000000"
            ]
          },
          "execution_count": 27,
          "metadata": {},
          "output_type": "execute_result"
        }
      ],
      "source": [
        "normalized_num_features_df.describe()"
      ]
    },
    {
      "cell_type": "markdown",
      "metadata": {
        "id": "4dNBZZt1B09s"
      },
      "source": [
        "## Text Representation"
      ]
    },
    {
      "cell_type": "code",
      "execution_count": 28,
      "metadata": {
        "id": "2kd0t-6-tww8"
      },
      "outputs": [],
      "source": [
        "text_cols = ['overview','genres','keywords','title_wrangled']\n",
        "\n",
        "def get_tfidf_matrix(df: pd.DataFrame, text_cols: list):\n",
        "\n",
        "    # Initialize TF-IDF Vectorizer\n",
        "    tf = TfidfVectorizer(ngram_range=(1, 2), min_df=2)\n",
        "\n",
        "    # Combine text from specified columns into a single string for each row\n",
        "    combined_text = df[text_cols].apply(lambda x: ' '.join(x.dropna().astype(str)), axis=1)\n",
        "\n",
        "    # Apply TF-IDF Vectorizer\n",
        "    return tf.fit_transform(combined_text)\n",
        "\n",
        "# Get the TF-IDF matrix\n",
        "tfidf_matrix = get_tfidf_matrix(df, text_cols)"
      ]
    },
    {
      "cell_type": "markdown",
      "metadata": {
        "id": "nGysmCoECioV"
      },
      "source": [
        "## Combined Features"
      ]
    },
    {
      "cell_type": "code",
      "execution_count": 29,
      "metadata": {
        "colab": {
          "base_uri": "https://localhost:8080/"
        },
        "id": "m7A6yt-4CYBn",
        "outputId": "9700c279-3cc8-44ec-d32a-944b73010a4e"
      },
      "outputs": [
        {
          "name": "stdout",
          "output_type": "stream",
          "text": [
            "Shape of tfidf_matrix: (45493, 227985)\n",
            "Shape of normalized_num_features: (45493, 3)\n",
            "Shape of combined_features: (45493, 227988)\n"
          ]
        }
      ],
      "source": [
        "combined_features = hstack((tfidf_matrix, normalized_num_features_df))\n",
        "\n",
        "# Print shapes to verify\n",
        "print(\"Shape of tfidf_matrix:\", tfidf_matrix.shape)\n",
        "print(\"Shape of normalized_num_features:\", normalized_num_features_df.shape)\n",
        "print(\"Shape of combined_features:\", combined_features.shape)"
      ]
    },
    {
      "cell_type": "code",
      "execution_count": 34,
      "metadata": {},
      "outputs": [],
      "source": [
        "# Save the combined features matrix\n",
        "with open(f'{processed_data_path}/combined_features.pkl', 'wb') as f:\n",
        "    pickle.dump(combined_features, f)"
      ]
    }
  ],
  "metadata": {
    "colab": {
      "provenance": []
    },
    "kernelspec": {
      "display_name": "Python 3",
      "name": "python3"
    },
    "language_info": {
      "codemirror_mode": {
        "name": "ipython",
        "version": 3
      },
      "file_extension": ".py",
      "mimetype": "text/x-python",
      "name": "python",
      "nbconvert_exporter": "python",
      "pygments_lexer": "ipython3",
      "version": "3.12.1"
    }
  },
  "nbformat": 4,
  "nbformat_minor": 0
}
