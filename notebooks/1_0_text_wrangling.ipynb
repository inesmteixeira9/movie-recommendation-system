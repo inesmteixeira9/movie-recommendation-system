{
  "cells": [
    {
      "cell_type": "code",
      "execution_count": 61,
      "metadata": {
        "colab": {
          "base_uri": "https://localhost:8080/"
        },
        "id": "QjgjnSewmthg",
        "outputId": "b0a03df4-6ce6-4bb2-cdac-bd3aa31765bd"
      },
      "outputs": [
        {
          "name": "stderr",
          "output_type": "stream",
          "text": [
            "[nltk_data] Downloading package punkt to\n",
            "[nltk_data]     C:\\Users\\MULTIVISION\\AppData\\Roaming\\nltk_data...\n",
            "[nltk_data]   Package punkt is already up-to-date!\n",
            "[nltk_data] Downloading package wordnet to\n",
            "[nltk_data]     C:\\Users\\MULTIVISION\\AppData\\Roaming\\nltk_data...\n",
            "[nltk_data]   Package wordnet is already up-to-date!\n",
            "[nltk_data] Downloading package stopwords to\n",
            "[nltk_data]     C:\\Users\\MULTIVISION\\AppData\\Roaming\\nltk_data...\n",
            "[nltk_data]   Package stopwords is already up-to-date!\n",
            "[nltk_data] Downloading package averaged_perceptron_tagger to\n",
            "[nltk_data]     C:\\Users\\MULTIVISION\\AppData\\Roaming\\nltk_data...\n",
            "[nltk_data]   Package averaged_perceptron_tagger is already up-to-\n",
            "[nltk_data]       date!\n",
            "[nltk_data] Downloading package names to\n",
            "[nltk_data]     C:\\Users\\MULTIVISION\\AppData\\Roaming\\nltk_data...\n",
            "[nltk_data]   Package names is already up-to-date!\n"
          ]
        },
        {
          "data": {
            "text/plain": [
              "True"
            ]
          },
          "execution_count": 61,
          "metadata": {},
          "output_type": "execute_result"
        }
      ],
      "source": [
        "import os\n",
        "import sys\n",
        "import pandas as pd\n",
        "import re\n",
        "import ast\n",
        "import contractions\n",
        "import nltk\n",
        "from nltk.corpus import names\n",
        "from nltk.stem import PorterStemmer\n",
        "from nltk.tokenize import word_tokenize\n",
        "import numpy as np\n",
        "from datetime import datetime\n",
        "\n",
        "nltk.download('punkt')\n",
        "nltk.download('wordnet')\n",
        "nltk.download('stopwords')\n",
        "nltk.download('averaged_perceptron_tagger')\n",
        "nltk.download('names')"
      ]
    },
    {
      "cell_type": "markdown",
      "metadata": {
        "id": "h3nsJJAybTn6"
      },
      "source": [
        "# Data Collection\n",
        "\n",
        "Source: https://www.kaggle.com/datasets/rounakbanik/the-movies-dataset/data"
      ]
    },
    {
      "cell_type": "code",
      "execution_count": 27,
      "metadata": {
        "id": "m9QERImmmvqR"
      },
      "outputs": [],
      "source": [
        "# Get data directories\n",
        "current_dir = os.getcwd()\n",
        "parent_dir = os.path.dirname(current_dir)\n",
        "sys.path.append(parent_dir)\n",
        "\n",
        "movies_metadata_path = '/data/raw/movies_metadata.csv'\n",
        "keywords_path = '/data/raw/keywords.csv'"
      ]
    },
    {
      "cell_type": "code",
      "execution_count": 28,
      "metadata": {
        "colab": {
          "base_uri": "https://localhost:8080/"
        },
        "id": "DZvxbFcGmxir",
        "outputId": "1a503d38-6710-4201-fa55-34d4be85186d"
      },
      "outputs": [
        {
          "name": "stdout",
          "output_type": "stream",
          "text": [
            "MOVIES_METADATA\n",
            "adult                                                                False\n",
            "belongs_to_collection    {'id': 10194, 'name': 'Toy Story Collection', ...\n",
            "budget                                                            30000000\n",
            "genres                   [{'id': 16, 'name': 'Animation'}, {'id': 35, '...\n",
            "homepage                              http://toystory.disney.com/toy-story\n",
            "id                                                                     862\n",
            "imdb_id                                                          tt0114709\n",
            "original_language                                                       en\n",
            "original_title                                                   Toy Story\n",
            "overview                 Led by Woody, Andy's toys live happily in his ...\n",
            "popularity                                                       21.946943\n",
            "poster_path                               /rhIRbceoE9lR4veEXuwCC2wARtG.jpg\n",
            "production_companies        [{'name': 'Pixar Animation Studios', 'id': 3}]\n",
            "production_countries     [{'iso_3166_1': 'US', 'name': 'United States o...\n",
            "release_date                                                    1995-10-30\n",
            "revenue                                                        373554033.0\n",
            "runtime                                                               81.0\n",
            "spoken_languages                  [{'iso_639_1': 'en', 'name': 'English'}]\n",
            "status                                                            Released\n",
            "tagline                                                                NaN\n",
            "title                                                            Toy Story\n",
            "video                                                                False\n",
            "vote_average                                                           7.7\n",
            "vote_count                                                          5415.0\n",
            "Name: 0, dtype: object\n",
            "\n",
            "KEYWORDS\n",
            "id                                                        862\n",
            "keywords    [{'id': 931, 'name': 'jealousy'}, {'id': 4290,...\n",
            "Name: 0, dtype: object\n"
          ]
        }
      ],
      "source": [
        "# Read data\n",
        "try:\n",
        "    df = pd.read_csv(parent_dir + movies_metadata_path, engine='python', on_bad_lines='skip')\n",
        "    keywords_df = pd.read_csv(parent_dir + keywords_path, engine='python', on_bad_lines='skip')\n",
        "except pd.errors.ParserError as e:\n",
        "    print(f\"ParserError: {e}\")\n",
        "\n",
        "print('MOVIES_METADATA')\n",
        "print(df.iloc[0])\n",
        "print('\\nKEYWORDS')\n",
        "print(keywords_df.iloc[0])"
      ]
    },
    {
      "cell_type": "code",
      "execution_count": 29,
      "metadata": {
        "colab": {
          "base_uri": "https://localhost:8080/",
          "height": 300
        },
        "id": "ACIG_ZoAdGEI",
        "outputId": "2f352f7f-ccbe-415b-dff3-62c9917c2d99"
      },
      "outputs": [
        {
          "data": {
            "text/html": [
              "<div>\n",
              "<style scoped>\n",
              "    .dataframe tbody tr th:only-of-type {\n",
              "        vertical-align: middle;\n",
              "    }\n",
              "\n",
              "    .dataframe tbody tr th {\n",
              "        vertical-align: top;\n",
              "    }\n",
              "\n",
              "    .dataframe thead th {\n",
              "        text-align: right;\n",
              "    }\n",
              "</style>\n",
              "<table border=\"1\" class=\"dataframe\">\n",
              "  <thead>\n",
              "    <tr style=\"text-align: right;\">\n",
              "      <th></th>\n",
              "      <th>revenue</th>\n",
              "      <th>runtime</th>\n",
              "      <th>vote_average</th>\n",
              "      <th>vote_count</th>\n",
              "    </tr>\n",
              "  </thead>\n",
              "  <tbody>\n",
              "    <tr>\n",
              "      <th>count</th>\n",
              "      <td>4.546000e+04</td>\n",
              "      <td>45203.000000</td>\n",
              "      <td>45460.000000</td>\n",
              "      <td>45460.000000</td>\n",
              "    </tr>\n",
              "    <tr>\n",
              "      <th>mean</th>\n",
              "      <td>1.120935e+07</td>\n",
              "      <td>94.128199</td>\n",
              "      <td>5.618207</td>\n",
              "      <td>109.897338</td>\n",
              "    </tr>\n",
              "    <tr>\n",
              "      <th>std</th>\n",
              "      <td>6.433225e+07</td>\n",
              "      <td>38.407810</td>\n",
              "      <td>1.924216</td>\n",
              "      <td>491.310374</td>\n",
              "    </tr>\n",
              "    <tr>\n",
              "      <th>min</th>\n",
              "      <td>0.000000e+00</td>\n",
              "      <td>0.000000</td>\n",
              "      <td>0.000000</td>\n",
              "      <td>0.000000</td>\n",
              "    </tr>\n",
              "    <tr>\n",
              "      <th>25%</th>\n",
              "      <td>0.000000e+00</td>\n",
              "      <td>85.000000</td>\n",
              "      <td>5.000000</td>\n",
              "      <td>3.000000</td>\n",
              "    </tr>\n",
              "    <tr>\n",
              "      <th>50%</th>\n",
              "      <td>0.000000e+00</td>\n",
              "      <td>95.000000</td>\n",
              "      <td>6.000000</td>\n",
              "      <td>10.000000</td>\n",
              "    </tr>\n",
              "    <tr>\n",
              "      <th>75%</th>\n",
              "      <td>0.000000e+00</td>\n",
              "      <td>107.000000</td>\n",
              "      <td>6.800000</td>\n",
              "      <td>34.000000</td>\n",
              "    </tr>\n",
              "    <tr>\n",
              "      <th>max</th>\n",
              "      <td>2.787965e+09</td>\n",
              "      <td>1256.000000</td>\n",
              "      <td>10.000000</td>\n",
              "      <td>14075.000000</td>\n",
              "    </tr>\n",
              "  </tbody>\n",
              "</table>\n",
              "</div>"
            ],
            "text/plain": [
              "            revenue       runtime  vote_average    vote_count\n",
              "count  4.546000e+04  45203.000000  45460.000000  45460.000000\n",
              "mean   1.120935e+07     94.128199      5.618207    109.897338\n",
              "std    6.433225e+07     38.407810      1.924216    491.310374\n",
              "min    0.000000e+00      0.000000      0.000000      0.000000\n",
              "25%    0.000000e+00     85.000000      5.000000      3.000000\n",
              "50%    0.000000e+00     95.000000      6.000000     10.000000\n",
              "75%    0.000000e+00    107.000000      6.800000     34.000000\n",
              "max    2.787965e+09   1256.000000     10.000000  14075.000000"
            ]
          },
          "execution_count": 29,
          "metadata": {},
          "output_type": "execute_result"
        }
      ],
      "source": [
        "df.describe()"
      ]
    },
    {
      "cell_type": "code",
      "execution_count": 30,
      "metadata": {
        "colab": {
          "base_uri": "https://localhost:8080/",
          "height": 206
        },
        "id": "mQGx6S_LK7VS",
        "outputId": "bb0bf7c1-8608-42f0-bca0-6106f83f3545"
      },
      "outputs": [
        {
          "data": {
            "text/html": [
              "<div>\n",
              "<style scoped>\n",
              "    .dataframe tbody tr th:only-of-type {\n",
              "        vertical-align: middle;\n",
              "    }\n",
              "\n",
              "    .dataframe tbody tr th {\n",
              "        vertical-align: top;\n",
              "    }\n",
              "\n",
              "    .dataframe thead th {\n",
              "        text-align: right;\n",
              "    }\n",
              "</style>\n",
              "<table border=\"1\" class=\"dataframe\">\n",
              "  <thead>\n",
              "    <tr style=\"text-align: right;\">\n",
              "      <th></th>\n",
              "      <th>id</th>\n",
              "      <th>title</th>\n",
              "      <th>overview</th>\n",
              "      <th>genres</th>\n",
              "      <th>popularity</th>\n",
              "      <th>release_date</th>\n",
              "      <th>tagline</th>\n",
              "      <th>vote_average</th>\n",
              "    </tr>\n",
              "  </thead>\n",
              "  <tbody>\n",
              "    <tr>\n",
              "      <th>0</th>\n",
              "      <td>862</td>\n",
              "      <td>Toy Story</td>\n",
              "      <td>Led by Woody, Andy's toys live happily in his ...</td>\n",
              "      <td>[{'id': 16, 'name': 'Animation'}, {'id': 35, '...</td>\n",
              "      <td>21.946943</td>\n",
              "      <td>1995-10-30</td>\n",
              "      <td>NaN</td>\n",
              "      <td>7.7</td>\n",
              "    </tr>\n",
              "    <tr>\n",
              "      <th>1</th>\n",
              "      <td>8844</td>\n",
              "      <td>Jumanji</td>\n",
              "      <td>When siblings Judy and Peter discover an encha...</td>\n",
              "      <td>[{'id': 12, 'name': 'Adventure'}, {'id': 14, '...</td>\n",
              "      <td>17.015539</td>\n",
              "      <td>1995-12-15</td>\n",
              "      <td>Roll the dice and unleash the excitement!</td>\n",
              "      <td>6.9</td>\n",
              "    </tr>\n",
              "    <tr>\n",
              "      <th>2</th>\n",
              "      <td>15602</td>\n",
              "      <td>Grumpier Old Men</td>\n",
              "      <td>A family wedding reignites the ancient feud be...</td>\n",
              "      <td>[{'id': 10749, 'name': 'Romance'}, {'id': 35, ...</td>\n",
              "      <td>11.7129</td>\n",
              "      <td>1995-12-22</td>\n",
              "      <td>Still Yelling. Still Fighting. Still Ready for...</td>\n",
              "      <td>6.5</td>\n",
              "    </tr>\n",
              "    <tr>\n",
              "      <th>3</th>\n",
              "      <td>31357</td>\n",
              "      <td>Waiting to Exhale</td>\n",
              "      <td>Cheated on, mistreated and stepped on, the wom...</td>\n",
              "      <td>[{'id': 35, 'name': 'Comedy'}, {'id': 18, 'nam...</td>\n",
              "      <td>3.859495</td>\n",
              "      <td>1995-12-22</td>\n",
              "      <td>Friends are the people who let you be yourself...</td>\n",
              "      <td>6.1</td>\n",
              "    </tr>\n",
              "    <tr>\n",
              "      <th>4</th>\n",
              "      <td>11862</td>\n",
              "      <td>Father of the Bride Part II</td>\n",
              "      <td>Just when George Banks has recovered from his ...</td>\n",
              "      <td>[{'id': 35, 'name': 'Comedy'}]</td>\n",
              "      <td>8.387519</td>\n",
              "      <td>1995-02-10</td>\n",
              "      <td>Just When His World Is Back To Normal... He's ...</td>\n",
              "      <td>5.7</td>\n",
              "    </tr>\n",
              "  </tbody>\n",
              "</table>\n",
              "</div>"
            ],
            "text/plain": [
              "      id                        title  \\\n",
              "0    862                    Toy Story   \n",
              "1   8844                      Jumanji   \n",
              "2  15602             Grumpier Old Men   \n",
              "3  31357            Waiting to Exhale   \n",
              "4  11862  Father of the Bride Part II   \n",
              "\n",
              "                                            overview  \\\n",
              "0  Led by Woody, Andy's toys live happily in his ...   \n",
              "1  When siblings Judy and Peter discover an encha...   \n",
              "2  A family wedding reignites the ancient feud be...   \n",
              "3  Cheated on, mistreated and stepped on, the wom...   \n",
              "4  Just when George Banks has recovered from his ...   \n",
              "\n",
              "                                              genres popularity release_date  \\\n",
              "0  [{'id': 16, 'name': 'Animation'}, {'id': 35, '...  21.946943   1995-10-30   \n",
              "1  [{'id': 12, 'name': 'Adventure'}, {'id': 14, '...  17.015539   1995-12-15   \n",
              "2  [{'id': 10749, 'name': 'Romance'}, {'id': 35, ...    11.7129   1995-12-22   \n",
              "3  [{'id': 35, 'name': 'Comedy'}, {'id': 18, 'nam...   3.859495   1995-12-22   \n",
              "4                     [{'id': 35, 'name': 'Comedy'}]   8.387519   1995-02-10   \n",
              "\n",
              "                                             tagline  vote_average  \n",
              "0                                                NaN           7.7  \n",
              "1          Roll the dice and unleash the excitement!           6.9  \n",
              "2  Still Yelling. Still Fighting. Still Ready for...           6.5  \n",
              "3  Friends are the people who let you be yourself...           6.1  \n",
              "4  Just When His World Is Back To Normal... He's ...           5.7  "
            ]
          },
          "execution_count": 30,
          "metadata": {},
          "output_type": "execute_result"
        }
      ],
      "source": [
        "df = df[['id', 'title', 'overview', 'genres', 'popularity', 'release_date', 'tagline', 'vote_average']]\n",
        "df.head()"
      ]
    },
    {
      "cell_type": "code",
      "execution_count": 31,
      "metadata": {
        "colab": {
          "base_uri": "https://localhost:8080/"
        },
        "id": "lF4E1irvcdwJ",
        "outputId": "4d2d2641-6f0a-409a-ec65-fac45dac53e2"
      },
      "outputs": [
        {
          "data": {
            "text/plain": [
              "id                  0\n",
              "title               0\n",
              "overview            8\n",
              "genres              0\n",
              "popularity          0\n",
              "release_date       71\n",
              "tagline         24102\n",
              "vote_average        0\n",
              "dtype: int64"
            ]
          },
          "execution_count": 31,
          "metadata": {},
          "output_type": "execute_result"
        }
      ],
      "source": [
        "df = df.dropna(subset=['title'])\n",
        "df = df.dropna(subset=['overview', 'tagline'], how='all')\n",
        "\n",
        "df.isnull().sum()"
      ]
    },
    {
      "cell_type": "code",
      "execution_count": 32,
      "metadata": {
        "colab": {
          "base_uri": "https://localhost:8080/"
        },
        "id": "cEKFhBGeaAnK",
        "outputId": "d85696eb-3fb7-45f6-da81-7487bf49d317"
      },
      "outputs": [
        {
          "data": {
            "text/plain": [
              "id               object\n",
              "title            object\n",
              "overview         object\n",
              "genres           object\n",
              "popularity       object\n",
              "release_date     object\n",
              "tagline          object\n",
              "vote_average    float64\n",
              "dtype: object"
            ]
          },
          "execution_count": 32,
          "metadata": {},
          "output_type": "execute_result"
        }
      ],
      "source": [
        "df.dtypes"
      ]
    },
    {
      "cell_type": "markdown",
      "metadata": {
        "id": "sYwJJXH5bD4Z"
      },
      "source": [
        "# Pre-Processing Numeric Data"
      ]
    },
    {
      "cell_type": "code",
      "execution_count": 33,
      "metadata": {
        "colab": {
          "base_uri": "https://localhost:8080/"
        },
        "id": "O1Ge7JktZ7gn",
        "outputId": "90b1bd3e-233f-45b5-9080-df9b81eb5cd6"
      },
      "outputs": [
        {
          "name": "stderr",
          "output_type": "stream",
          "text": [
            "C:\\Users\\MULTIVISION\\AppData\\Local\\Temp\\ipykernel_23252\\277104090.py:19: FutureWarning: A value is trying to be set on a copy of a DataFrame or Series through chained assignment using an inplace method.\n",
            "The behavior will change in pandas 3.0. This inplace method will never work because the intermediate object on which we are setting values always behaves as a copy.\n",
            "\n",
            "For example, when doing 'df[col].method(value, inplace=True)', try using 'df.method({col: value}, inplace=True)' or df[col] = df[col].method(value) instead, to perform the operation inplace on the original object.\n",
            "\n",
            "\n",
            "  df[col].fillna(df[col].mean(), inplace=True)\n"
          ]
        },
        {
          "data": {
            "text/plain": [
              "popularity      0\n",
              "release_year    0\n",
              "vote_average    0\n",
              "dtype: int64"
            ]
          },
          "execution_count": 33,
          "metadata": {},
          "output_type": "execute_result"
        }
      ],
      "source": [
        "# Convert id to Int64\n",
        "df['id'] = df['id'].astype(pd.Int64Dtype())\n",
        "\n",
        "# Convert popularity to Float64\n",
        "df['popularity'] = df['popularity'].astype(pd.Float64Dtype())\n",
        "\n",
        "# Extract release_year and convert to Int64\n",
        "df['release_year'] = df['release_date'].apply(lambda cell: int(cell[0:4]) if pd.notna(cell) and len(str(cell)) == 10 else None)\n",
        "df['release_year'] = df['release_year'].astype(pd.Float64Dtype())\n",
        "\n",
        "# Drop release_date column\n",
        "if 'release_date' in df.columns:\n",
        "    df = df.drop(columns='release_date')\n",
        "\n",
        "num_cols = ['popularity', 'release_year', 'vote_average']\n",
        "\n",
        "# Impute none values with mean\n",
        "for col in num_cols:\n",
        "    df[col].fillna(df[col].mean(), inplace=True)\n",
        "\n",
        "df[num_cols].isnull().sum()"
      ]
    },
    {
      "cell_type": "code",
      "execution_count": 34,
      "metadata": {
        "colab": {
          "base_uri": "https://localhost:8080/",
          "height": 300
        },
        "id": "GbjMkmPZdxGq",
        "outputId": "cfa47f83-2520-4de1-96f2-fb66cd357ee4"
      },
      "outputs": [
        {
          "data": {
            "text/html": [
              "<div>\n",
              "<style scoped>\n",
              "    .dataframe tbody tr th:only-of-type {\n",
              "        vertical-align: middle;\n",
              "    }\n",
              "\n",
              "    .dataframe tbody tr th {\n",
              "        vertical-align: top;\n",
              "    }\n",
              "\n",
              "    .dataframe thead th {\n",
              "        text-align: right;\n",
              "    }\n",
              "</style>\n",
              "<table border=\"1\" class=\"dataframe\">\n",
              "  <thead>\n",
              "    <tr style=\"text-align: right;\">\n",
              "      <th></th>\n",
              "      <th>popularity</th>\n",
              "      <th>release_year</th>\n",
              "      <th>vote_average</th>\n",
              "    </tr>\n",
              "  </thead>\n",
              "  <tbody>\n",
              "    <tr>\n",
              "      <th>count</th>\n",
              "      <td>44514.0</td>\n",
              "      <td>44514.0</td>\n",
              "      <td>44514.000000</td>\n",
              "    </tr>\n",
              "    <tr>\n",
              "      <th>mean</th>\n",
              "      <td>2.971567</td>\n",
              "      <td>1991.798393</td>\n",
              "      <td>5.638813</td>\n",
              "    </tr>\n",
              "    <tr>\n",
              "      <th>std</th>\n",
              "      <td>6.057626</td>\n",
              "      <td>24.118876</td>\n",
              "      <td>1.896881</td>\n",
              "    </tr>\n",
              "    <tr>\n",
              "      <th>min</th>\n",
              "      <td>0.0</td>\n",
              "      <td>1874.0</td>\n",
              "      <td>0.000000</td>\n",
              "    </tr>\n",
              "    <tr>\n",
              "      <th>25%</th>\n",
              "      <td>0.404121</td>\n",
              "      <td>1978.0</td>\n",
              "      <td>5.000000</td>\n",
              "    </tr>\n",
              "    <tr>\n",
              "      <th>50%</th>\n",
              "      <td>1.159858</td>\n",
              "      <td>2001.0</td>\n",
              "      <td>6.000000</td>\n",
              "    </tr>\n",
              "    <tr>\n",
              "      <th>75%</th>\n",
              "      <td>3.801981</td>\n",
              "      <td>2010.0</td>\n",
              "      <td>6.800000</td>\n",
              "    </tr>\n",
              "    <tr>\n",
              "      <th>max</th>\n",
              "      <td>547.488298</td>\n",
              "      <td>2020.0</td>\n",
              "      <td>10.000000</td>\n",
              "    </tr>\n",
              "  </tbody>\n",
              "</table>\n",
              "</div>"
            ],
            "text/plain": [
              "       popularity  release_year  vote_average\n",
              "count     44514.0       44514.0  44514.000000\n",
              "mean     2.971567   1991.798393      5.638813\n",
              "std      6.057626     24.118876      1.896881\n",
              "min           0.0        1874.0      0.000000\n",
              "25%      0.404121        1978.0      5.000000\n",
              "50%      1.159858        2001.0      6.000000\n",
              "75%      3.801981        2010.0      6.800000\n",
              "max    547.488298        2020.0     10.000000"
            ]
          },
          "execution_count": 34,
          "metadata": {},
          "output_type": "execute_result"
        }
      ],
      "source": [
        "df[num_cols].describe()"
      ]
    },
    {
      "cell_type": "markdown",
      "metadata": {
        "id": "kvJXTvfPU8aP"
      },
      "source": [
        "### Merge datasets"
      ]
    },
    {
      "cell_type": "code",
      "execution_count": 35,
      "metadata": {
        "colab": {
          "base_uri": "https://localhost:8080/",
          "height": 206
        },
        "id": "ZE2tu11Gjd0F",
        "outputId": "f4f48235-f705-4792-cfd8-12156f174a96"
      },
      "outputs": [
        {
          "data": {
            "text/html": [
              "<div>\n",
              "<style scoped>\n",
              "    .dataframe tbody tr th:only-of-type {\n",
              "        vertical-align: middle;\n",
              "    }\n",
              "\n",
              "    .dataframe tbody tr th {\n",
              "        vertical-align: top;\n",
              "    }\n",
              "\n",
              "    .dataframe thead th {\n",
              "        text-align: right;\n",
              "    }\n",
              "</style>\n",
              "<table border=\"1\" class=\"dataframe\">\n",
              "  <thead>\n",
              "    <tr style=\"text-align: right;\">\n",
              "      <th></th>\n",
              "      <th>id</th>\n",
              "      <th>title</th>\n",
              "      <th>overview</th>\n",
              "      <th>genres</th>\n",
              "      <th>popularity</th>\n",
              "      <th>tagline</th>\n",
              "      <th>vote_average</th>\n",
              "      <th>release_year</th>\n",
              "      <th>keywords</th>\n",
              "    </tr>\n",
              "  </thead>\n",
              "  <tbody>\n",
              "    <tr>\n",
              "      <th>0</th>\n",
              "      <td>862</td>\n",
              "      <td>Toy Story</td>\n",
              "      <td>Led by Woody, Andy's toys live happily in his ...</td>\n",
              "      <td>[{'id': 16, 'name': 'Animation'}, {'id': 35, '...</td>\n",
              "      <td>21.946943</td>\n",
              "      <td>NaN</td>\n",
              "      <td>7.7</td>\n",
              "      <td>1995.0</td>\n",
              "      <td>[{'id': 931, 'name': 'jealousy'}, {'id': 4290,...</td>\n",
              "    </tr>\n",
              "    <tr>\n",
              "      <th>1</th>\n",
              "      <td>8844</td>\n",
              "      <td>Jumanji</td>\n",
              "      <td>When siblings Judy and Peter discover an encha...</td>\n",
              "      <td>[{'id': 12, 'name': 'Adventure'}, {'id': 14, '...</td>\n",
              "      <td>17.015539</td>\n",
              "      <td>Roll the dice and unleash the excitement!</td>\n",
              "      <td>6.9</td>\n",
              "      <td>1995.0</td>\n",
              "      <td>[{'id': 10090, 'name': 'board game'}, {'id': 1...</td>\n",
              "    </tr>\n",
              "    <tr>\n",
              "      <th>2</th>\n",
              "      <td>15602</td>\n",
              "      <td>Grumpier Old Men</td>\n",
              "      <td>A family wedding reignites the ancient feud be...</td>\n",
              "      <td>[{'id': 10749, 'name': 'Romance'}, {'id': 35, ...</td>\n",
              "      <td>11.7129</td>\n",
              "      <td>Still Yelling. Still Fighting. Still Ready for...</td>\n",
              "      <td>6.5</td>\n",
              "      <td>1995.0</td>\n",
              "      <td>[{'id': 1495, 'name': 'fishing'}, {'id': 12392...</td>\n",
              "    </tr>\n",
              "    <tr>\n",
              "      <th>3</th>\n",
              "      <td>31357</td>\n",
              "      <td>Waiting to Exhale</td>\n",
              "      <td>Cheated on, mistreated and stepped on, the wom...</td>\n",
              "      <td>[{'id': 35, 'name': 'Comedy'}, {'id': 18, 'nam...</td>\n",
              "      <td>3.859495</td>\n",
              "      <td>Friends are the people who let you be yourself...</td>\n",
              "      <td>6.1</td>\n",
              "      <td>1995.0</td>\n",
              "      <td>[{'id': 818, 'name': 'based on novel'}, {'id':...</td>\n",
              "    </tr>\n",
              "    <tr>\n",
              "      <th>4</th>\n",
              "      <td>11862</td>\n",
              "      <td>Father of the Bride Part II</td>\n",
              "      <td>Just when George Banks has recovered from his ...</td>\n",
              "      <td>[{'id': 35, 'name': 'Comedy'}]</td>\n",
              "      <td>8.387519</td>\n",
              "      <td>Just When His World Is Back To Normal... He's ...</td>\n",
              "      <td>5.7</td>\n",
              "      <td>1995.0</td>\n",
              "      <td>[{'id': 1009, 'name': 'baby'}, {'id': 1599, 'n...</td>\n",
              "    </tr>\n",
              "  </tbody>\n",
              "</table>\n",
              "</div>"
            ],
            "text/plain": [
              "      id                        title  \\\n",
              "0    862                    Toy Story   \n",
              "1   8844                      Jumanji   \n",
              "2  15602             Grumpier Old Men   \n",
              "3  31357            Waiting to Exhale   \n",
              "4  11862  Father of the Bride Part II   \n",
              "\n",
              "                                            overview  \\\n",
              "0  Led by Woody, Andy's toys live happily in his ...   \n",
              "1  When siblings Judy and Peter discover an encha...   \n",
              "2  A family wedding reignites the ancient feud be...   \n",
              "3  Cheated on, mistreated and stepped on, the wom...   \n",
              "4  Just when George Banks has recovered from his ...   \n",
              "\n",
              "                                              genres  popularity  \\\n",
              "0  [{'id': 16, 'name': 'Animation'}, {'id': 35, '...   21.946943   \n",
              "1  [{'id': 12, 'name': 'Adventure'}, {'id': 14, '...   17.015539   \n",
              "2  [{'id': 10749, 'name': 'Romance'}, {'id': 35, ...     11.7129   \n",
              "3  [{'id': 35, 'name': 'Comedy'}, {'id': 18, 'nam...    3.859495   \n",
              "4                     [{'id': 35, 'name': 'Comedy'}]    8.387519   \n",
              "\n",
              "                                             tagline  vote_average  \\\n",
              "0                                                NaN           7.7   \n",
              "1          Roll the dice and unleash the excitement!           6.9   \n",
              "2  Still Yelling. Still Fighting. Still Ready for...           6.5   \n",
              "3  Friends are the people who let you be yourself...           6.1   \n",
              "4  Just When His World Is Back To Normal... He's ...           5.7   \n",
              "\n",
              "   release_year                                           keywords  \n",
              "0        1995.0  [{'id': 931, 'name': 'jealousy'}, {'id': 4290,...  \n",
              "1        1995.0  [{'id': 10090, 'name': 'board game'}, {'id': 1...  \n",
              "2        1995.0  [{'id': 1495, 'name': 'fishing'}, {'id': 12392...  \n",
              "3        1995.0  [{'id': 818, 'name': 'based on novel'}, {'id':...  \n",
              "4        1995.0  [{'id': 1009, 'name': 'baby'}, {'id': 1599, 'n...  "
            ]
          },
          "execution_count": 35,
          "metadata": {},
          "output_type": "execute_result"
        }
      ],
      "source": [
        "df = pd.merge(df, keywords_df, on='id', how='left')\n",
        "df.head()"
      ]
    },
    {
      "cell_type": "markdown",
      "metadata": {
        "id": "W90iyHMPVPnW"
      },
      "source": [
        "# Text Wrangling"
      ]
    },
    {
      "cell_type": "code",
      "execution_count": 36,
      "metadata": {
        "colab": {
          "base_uri": "https://localhost:8080/",
          "height": 206
        },
        "id": "I1-ivKzRm1bH",
        "outputId": "e10433ed-560c-419d-d52b-5d6cbddb5b36"
      },
      "outputs": [
        {
          "data": {
            "text/html": [
              "<div>\n",
              "<style scoped>\n",
              "    .dataframe tbody tr th:only-of-type {\n",
              "        vertical-align: middle;\n",
              "    }\n",
              "\n",
              "    .dataframe tbody tr th {\n",
              "        vertical-align: top;\n",
              "    }\n",
              "\n",
              "    .dataframe thead th {\n",
              "        text-align: right;\n",
              "    }\n",
              "</style>\n",
              "<table border=\"1\" class=\"dataframe\">\n",
              "  <thead>\n",
              "    <tr style=\"text-align: right;\">\n",
              "      <th></th>\n",
              "      <th>id</th>\n",
              "      <th>title</th>\n",
              "      <th>overview</th>\n",
              "      <th>genres</th>\n",
              "      <th>popularity</th>\n",
              "      <th>tagline</th>\n",
              "      <th>vote_average</th>\n",
              "      <th>release_year</th>\n",
              "      <th>keywords</th>\n",
              "    </tr>\n",
              "  </thead>\n",
              "  <tbody>\n",
              "    <tr>\n",
              "      <th>0</th>\n",
              "      <td>862</td>\n",
              "      <td>Toy Story</td>\n",
              "      <td>Led by Woody, Andy's toys live happily in his ...</td>\n",
              "      <td>[Animation, Comedy, Family]</td>\n",
              "      <td>21.946943</td>\n",
              "      <td>NaN</td>\n",
              "      <td>7.7</td>\n",
              "      <td>1995.0</td>\n",
              "      <td>[jealousy, toy, boy, friendship, friends, riva...</td>\n",
              "    </tr>\n",
              "    <tr>\n",
              "      <th>1</th>\n",
              "      <td>8844</td>\n",
              "      <td>Jumanji</td>\n",
              "      <td>When siblings Judy and Peter discover an encha...</td>\n",
              "      <td>[Adventure, Fantasy, Family]</td>\n",
              "      <td>17.015539</td>\n",
              "      <td>Roll the dice and unleash the excitement!</td>\n",
              "      <td>6.9</td>\n",
              "      <td>1995.0</td>\n",
              "      <td>[board game, disappearance, based on children'...</td>\n",
              "    </tr>\n",
              "    <tr>\n",
              "      <th>2</th>\n",
              "      <td>15602</td>\n",
              "      <td>Grumpier Old Men</td>\n",
              "      <td>A family wedding reignites the ancient feud be...</td>\n",
              "      <td>[Romance, Comedy]</td>\n",
              "      <td>11.7129</td>\n",
              "      <td>Still Yelling. Still Fighting. Still Ready for...</td>\n",
              "      <td>6.5</td>\n",
              "      <td>1995.0</td>\n",
              "      <td>[fishing, best friend, duringcreditsstinger, o...</td>\n",
              "    </tr>\n",
              "    <tr>\n",
              "      <th>3</th>\n",
              "      <td>31357</td>\n",
              "      <td>Waiting to Exhale</td>\n",
              "      <td>Cheated on, mistreated and stepped on, the wom...</td>\n",
              "      <td>[Comedy, Drama, Romance]</td>\n",
              "      <td>3.859495</td>\n",
              "      <td>Friends are the people who let you be yourself...</td>\n",
              "      <td>6.1</td>\n",
              "      <td>1995.0</td>\n",
              "      <td>[based on novel, interracial relationship, sin...</td>\n",
              "    </tr>\n",
              "    <tr>\n",
              "      <th>4</th>\n",
              "      <td>11862</td>\n",
              "      <td>Father of the Bride Part II</td>\n",
              "      <td>Just when George Banks has recovered from his ...</td>\n",
              "      <td>[Comedy]</td>\n",
              "      <td>8.387519</td>\n",
              "      <td>Just When His World Is Back To Normal... He's ...</td>\n",
              "      <td>5.7</td>\n",
              "      <td>1995.0</td>\n",
              "      <td>[baby, midlife crisis, confidence, aging, daug...</td>\n",
              "    </tr>\n",
              "  </tbody>\n",
              "</table>\n",
              "</div>"
            ],
            "text/plain": [
              "      id                        title  \\\n",
              "0    862                    Toy Story   \n",
              "1   8844                      Jumanji   \n",
              "2  15602             Grumpier Old Men   \n",
              "3  31357            Waiting to Exhale   \n",
              "4  11862  Father of the Bride Part II   \n",
              "\n",
              "                                            overview  \\\n",
              "0  Led by Woody, Andy's toys live happily in his ...   \n",
              "1  When siblings Judy and Peter discover an encha...   \n",
              "2  A family wedding reignites the ancient feud be...   \n",
              "3  Cheated on, mistreated and stepped on, the wom...   \n",
              "4  Just when George Banks has recovered from his ...   \n",
              "\n",
              "                         genres  popularity  \\\n",
              "0   [Animation, Comedy, Family]   21.946943   \n",
              "1  [Adventure, Fantasy, Family]   17.015539   \n",
              "2             [Romance, Comedy]     11.7129   \n",
              "3      [Comedy, Drama, Romance]    3.859495   \n",
              "4                      [Comedy]    8.387519   \n",
              "\n",
              "                                             tagline  vote_average  \\\n",
              "0                                                NaN           7.7   \n",
              "1          Roll the dice and unleash the excitement!           6.9   \n",
              "2  Still Yelling. Still Fighting. Still Ready for...           6.5   \n",
              "3  Friends are the people who let you be yourself...           6.1   \n",
              "4  Just When His World Is Back To Normal... He's ...           5.7   \n",
              "\n",
              "   release_year                                           keywords  \n",
              "0        1995.0  [jealousy, toy, boy, friendship, friends, riva...  \n",
              "1        1995.0  [board game, disappearance, based on children'...  \n",
              "2        1995.0  [fishing, best friend, duringcreditsstinger, o...  \n",
              "3        1995.0  [based on novel, interracial relationship, sin...  \n",
              "4        1995.0  [baby, midlife crisis, confidence, aging, daug...  "
            ]
          },
          "execution_count": 36,
          "metadata": {},
          "output_type": "execute_result"
        }
      ],
      "source": [
        "# Function to extract names\n",
        "def extract_names(cell):\n",
        "    if isinstance(cell, str):\n",
        "        # Convert string representation of list to actual list\n",
        "        cell = ast.literal_eval(cell)\n",
        "    if isinstance(cell, list):\n",
        "        return [item['name'] for item in cell if isinstance(item, dict) and 'name' in item]\n",
        "    return []\n",
        "\n",
        "# Extract 'name' in json\n",
        "df['genres'] = df['genres'].apply(extract_names)\n",
        "df['keywords'] = df['keywords'].apply(extract_names)\n",
        "df.head()"
      ]
    },
    {
      "cell_type": "code",
      "execution_count": 37,
      "metadata": {
        "id": "DyQGja5ukSkv"
      },
      "outputs": [],
      "source": [
        "# Convert None values into ' '\n",
        "df['tagline'] = df['tagline'].apply(lambda x: '' if pd.isna(x) else ' ' + x)\n",
        "\n",
        "# Concatenate overview and tagline\n",
        "df['overview'] = df['overview'] + ' ' + df['tagline'] #.astype(str)\n",
        "df = df.drop(columns='tagline')\n",
        "\n",
        "# add title_wrangled\n",
        "df['title_wrangled'] = df['title']"
      ]
    },
    {
      "cell_type": "code",
      "execution_count": 38,
      "metadata": {
        "colab": {
          "base_uri": "https://localhost:8080/"
        },
        "id": "5X45cmUBlPRu",
        "outputId": "245aa5d7-7975-44f1-e4b3-b0915314de36"
      },
      "outputs": [
        {
          "data": {
            "text/plain": [
              "id                0\n",
              "title             0\n",
              "overview          9\n",
              "genres            0\n",
              "popularity        0\n",
              "vote_average      0\n",
              "release_year      0\n",
              "keywords          0\n",
              "title_wrangled    0\n",
              "dtype: int64"
            ]
          },
          "execution_count": 38,
          "metadata": {},
          "output_type": "execute_result"
        }
      ],
      "source": [
        "df.isnull().sum()"
      ]
    },
    {
      "cell_type": "code",
      "execution_count": 39,
      "metadata": {
        "id": "OXE51fkIB6La"
      },
      "outputs": [],
      "source": [
        "cols_to_wrangle = ['overview', 'keywords', 'genres', 'title_wrangled']"
      ]
    },
    {
      "cell_type": "markdown",
      "metadata": {
        "id": "WsFZmrXHU1ei"
      },
      "source": [
        "### Fix contractions and possessive apostrophes\n",
        "\n",
        "Make conversions\n",
        " (\"ain't\", 'are not'),\n",
        " (\"aren't\", 'are not'),\n",
        " (\"can't\", 'can not'),\n",
        " (\"'cause\", 'because'), ...\n",
        "\n",
        "\n",
        "Example:\n",
        "\n",
        "  id: 54, overview: \"Sadie looks up to her older sister Georgia, a successful folk singer who's happily married with children, but **can't** break out of the bar-band circuit and hit the big time she desperately covets. **It's** in part due to her attraction to drugs and booze, and also to her own unwise choice in men. Finally, though, **Sadie's** Achilles heel is a rough, unlovely voice very different than her **sister's** crowd-pleasing singing.\""
      ]
    },
    {
      "cell_type": "code",
      "execution_count": 40,
      "metadata": {
        "colab": {
          "base_uri": "https://localhost:8080/"
        },
        "id": "tfNHbxBAkoq-",
        "outputId": "1cf01e17-5f0f-433e-ea44-6fac76063034"
      },
      "outputs": [
        {
          "data": {
            "text/plain": [
              "id                  Int64\n",
              "title              object\n",
              "overview           object\n",
              "genres             object\n",
              "popularity        Float64\n",
              "vote_average      float64\n",
              "release_year      Float64\n",
              "keywords           object\n",
              "title_wrangled     object\n",
              "dtype: object"
            ]
          },
          "execution_count": 40,
          "metadata": {},
          "output_type": "execute_result"
        }
      ],
      "source": [
        "df.dtypes"
      ]
    },
    {
      "cell_type": "code",
      "execution_count": 41,
      "metadata": {
        "id": "D64rw9eSSW53"
      },
      "outputs": [],
      "source": [
        "# Function definition (assuming you have contractions and re imported and defined)\n",
        "def fix_contractions_and_possessives(cell):\n",
        "    if isinstance(cell, str):\n",
        "        if pd.notna(cell):\n",
        "            try:\n",
        "                # Expand contractions\n",
        "                text = contractions.fix(cell)\n",
        "            except Exception as e:\n",
        "                print('Warning: Could not fix contractions', e, text)\n",
        "                text = cell\n",
        "\n",
        "            try:\n",
        "                # Remove possessive apostrophes (e.g., \"sister's\" -> \"sister\")\n",
        "                if re.search(r\"(\\b\\w+)'s\\b\", text):\n",
        "                    text = re.sub(r\"(\\b\\w+)'s\\b\", r\"\\1\", text)\n",
        "            except Exception as e:\n",
        "                print('Warning: Could not remove possessive apostrophes', e, text)\n",
        "                text = cell\n",
        "            return text\n",
        "\n",
        "    elif isinstance(cell, list):\n",
        "        list_of_words = cell\n",
        "        list_of_words = [contractions.fix(text) for text in list_of_words]\n",
        "        return [re.sub(r\"(\\b\\w+)'s\\b\", r\"\\1\", text) for text in list_of_words]\n",
        "\n",
        "    else:\n",
        "        return cell\n",
        "\n",
        "for col in cols_to_wrangle:\n",
        "  df[col] = df[col].apply(fix_contractions_and_possessives)"
      ]
    },
    {
      "cell_type": "code",
      "execution_count": 42,
      "metadata": {
        "colab": {
          "base_uri": "https://localhost:8080/",
          "height": 36
        },
        "id": "_5cOkUhvVrYX",
        "outputId": "4884099c-4197-401c-adf7-6f5a7db47dbf"
      },
      "outputs": [
        {
          "data": {
            "text/plain": [
              "'Set in modern times, Alex finds King Arthur sword Excalibur and must prove himself worthy of it. '"
            ]
          },
          "execution_count": 42,
          "metadata": {},
          "output_type": "execute_result"
        }
      ],
      "source": [
        "df['overview'].iloc[54]"
      ]
    },
    {
      "cell_type": "code",
      "execution_count": 43,
      "metadata": {
        "id": "3ltKTEcxGIQ4"
      },
      "outputs": [],
      "source": [
        "# Function to lower case words\n",
        "def lower_case(cell):\n",
        "    if isinstance(cell, str):\n",
        "      return cell.lower()\n",
        "    elif isinstance(cell, list):\n",
        "      list_of_words = cell\n",
        "      return [text.lower() for text in list_of_words]\n",
        "    else:\n",
        "      return cell\n",
        "\n",
        "for col in cols_to_wrangle:\n",
        "  df[col] = df[col].apply(lower_case)"
      ]
    },
    {
      "cell_type": "code",
      "execution_count": 44,
      "metadata": {
        "colab": {
          "base_uri": "https://localhost:8080/",
          "height": 206
        },
        "id": "d_aBAvuElrLK",
        "outputId": "84eef49e-e9d2-400b-d9ed-c07e95d82d1a"
      },
      "outputs": [
        {
          "data": {
            "text/html": [
              "<div>\n",
              "<style scoped>\n",
              "    .dataframe tbody tr th:only-of-type {\n",
              "        vertical-align: middle;\n",
              "    }\n",
              "\n",
              "    .dataframe tbody tr th {\n",
              "        vertical-align: top;\n",
              "    }\n",
              "\n",
              "    .dataframe thead th {\n",
              "        text-align: right;\n",
              "    }\n",
              "</style>\n",
              "<table border=\"1\" class=\"dataframe\">\n",
              "  <thead>\n",
              "    <tr style=\"text-align: right;\">\n",
              "      <th></th>\n",
              "      <th>id</th>\n",
              "      <th>title</th>\n",
              "      <th>overview</th>\n",
              "      <th>genres</th>\n",
              "      <th>popularity</th>\n",
              "      <th>vote_average</th>\n",
              "      <th>release_year</th>\n",
              "      <th>keywords</th>\n",
              "      <th>title_wrangled</th>\n",
              "    </tr>\n",
              "  </thead>\n",
              "  <tbody>\n",
              "    <tr>\n",
              "      <th>0</th>\n",
              "      <td>862</td>\n",
              "      <td>Toy Story</td>\n",
              "      <td>led by woody, andy toys live happily in his ro...</td>\n",
              "      <td>[animation, comedy, family]</td>\n",
              "      <td>21.946943</td>\n",
              "      <td>7.7</td>\n",
              "      <td>1995.0</td>\n",
              "      <td>[jealousy, toy, boy, friendship, friends, riva...</td>\n",
              "      <td>toy story</td>\n",
              "    </tr>\n",
              "    <tr>\n",
              "      <th>1</th>\n",
              "      <td>8844</td>\n",
              "      <td>Jumanji</td>\n",
              "      <td>when siblings judy and peter discover an encha...</td>\n",
              "      <td>[adventure, fantasy, family]</td>\n",
              "      <td>17.015539</td>\n",
              "      <td>6.9</td>\n",
              "      <td>1995.0</td>\n",
              "      <td>[board game, disappearance, based on children ...</td>\n",
              "      <td>jumanji</td>\n",
              "    </tr>\n",
              "    <tr>\n",
              "      <th>2</th>\n",
              "      <td>15602</td>\n",
              "      <td>Grumpier Old Men</td>\n",
              "      <td>a family wedding reignites the ancient feud be...</td>\n",
              "      <td>[romance, comedy]</td>\n",
              "      <td>11.7129</td>\n",
              "      <td>6.5</td>\n",
              "      <td>1995.0</td>\n",
              "      <td>[fishing, best friend, duringcreditsstinger, o...</td>\n",
              "      <td>grumpier old men</td>\n",
              "    </tr>\n",
              "    <tr>\n",
              "      <th>3</th>\n",
              "      <td>31357</td>\n",
              "      <td>Waiting to Exhale</td>\n",
              "      <td>cheated on, mistreated and stepped on, the wom...</td>\n",
              "      <td>[comedy, drama, romance]</td>\n",
              "      <td>3.859495</td>\n",
              "      <td>6.1</td>\n",
              "      <td>1995.0</td>\n",
              "      <td>[based on novel, interracial relationship, sin...</td>\n",
              "      <td>waiting to exhale</td>\n",
              "    </tr>\n",
              "    <tr>\n",
              "      <th>4</th>\n",
              "      <td>11862</td>\n",
              "      <td>Father of the Bride Part II</td>\n",
              "      <td>just when george banks has recovered from his ...</td>\n",
              "      <td>[comedy]</td>\n",
              "      <td>8.387519</td>\n",
              "      <td>5.7</td>\n",
              "      <td>1995.0</td>\n",
              "      <td>[baby, midlife crisis, confidence, aging, daug...</td>\n",
              "      <td>father of the bride part ii</td>\n",
              "    </tr>\n",
              "  </tbody>\n",
              "</table>\n",
              "</div>"
            ],
            "text/plain": [
              "      id                        title  \\\n",
              "0    862                    Toy Story   \n",
              "1   8844                      Jumanji   \n",
              "2  15602             Grumpier Old Men   \n",
              "3  31357            Waiting to Exhale   \n",
              "4  11862  Father of the Bride Part II   \n",
              "\n",
              "                                            overview  \\\n",
              "0  led by woody, andy toys live happily in his ro...   \n",
              "1  when siblings judy and peter discover an encha...   \n",
              "2  a family wedding reignites the ancient feud be...   \n",
              "3  cheated on, mistreated and stepped on, the wom...   \n",
              "4  just when george banks has recovered from his ...   \n",
              "\n",
              "                         genres  popularity  vote_average  release_year  \\\n",
              "0   [animation, comedy, family]   21.946943           7.7        1995.0   \n",
              "1  [adventure, fantasy, family]   17.015539           6.9        1995.0   \n",
              "2             [romance, comedy]     11.7129           6.5        1995.0   \n",
              "3      [comedy, drama, romance]    3.859495           6.1        1995.0   \n",
              "4                      [comedy]    8.387519           5.7        1995.0   \n",
              "\n",
              "                                            keywords  \\\n",
              "0  [jealousy, toy, boy, friendship, friends, riva...   \n",
              "1  [board game, disappearance, based on children ...   \n",
              "2  [fishing, best friend, duringcreditsstinger, o...   \n",
              "3  [based on novel, interracial relationship, sin...   \n",
              "4  [baby, midlife crisis, confidence, aging, daug...   \n",
              "\n",
              "                title_wrangled  \n",
              "0                    toy story  \n",
              "1                      jumanji  \n",
              "2             grumpier old men  \n",
              "3            waiting to exhale  \n",
              "4  father of the bride part ii  "
            ]
          },
          "execution_count": 44,
          "metadata": {},
          "output_type": "execute_result"
        }
      ],
      "source": [
        "df.head()"
      ]
    },
    {
      "cell_type": "code",
      "execution_count": 45,
      "metadata": {
        "colab": {
          "base_uri": "https://localhost:8080/",
          "height": 36
        },
        "id": "S6G_g55knQWu",
        "outputId": "8a58bace-f006-4ff6-990c-5ee79b5509df"
      },
      "outputs": [
        {
          "data": {
            "text/plain": [
              "'set in modern times, alex finds king arthur sword excalibur and must prove himself worthy of it. '"
            ]
          },
          "execution_count": 45,
          "metadata": {},
          "output_type": "execute_result"
        }
      ],
      "source": [
        "df['overview'].iloc[54]"
      ]
    },
    {
      "cell_type": "code",
      "execution_count": 46,
      "metadata": {
        "id": "v49L9RvAQoNj"
      },
      "outputs": [],
      "source": [
        "# Function to remove special characters\n",
        "def remove_special_characters(cell, remove_digits=False):\n",
        "    # Define the regex pattern to remove non-alphanumeric characters (preserve hyphen in certain cases)\n",
        "    pattern = r'[^a-zA-Z0-9\\s-]' if not remove_digits else r'[^a-zA-Z\\s-]'\n",
        "\n",
        "    if isinstance(cell, str):\n",
        "      # Substitute the pattern with an empty string in the text\n",
        "      text = re.sub(pattern, '', cell)\n",
        "\n",
        "      # Handle specific exceptions like \"crowd-pleasing\" becoming \"crowd pleasing\"\n",
        "      return re.sub(r'\\b(\\w+)-(\\w+)\\b', r'\\1 \\2', text)\n",
        "\n",
        "    elif isinstance(cell, list):\n",
        "      words_list = cell\n",
        "\n",
        "      # Substitute the pattern with an empty string in the text\n",
        "      text = [re.sub(pattern, '', cell) for cell in words_list]\n",
        "\n",
        "      # Handle specific exceptions like \"crowd-pleasing\" becoming \"crowd pleasing\"\n",
        "      return [re.sub(r'\\b(\\w+)-(\\w+)\\b', r'\\1 \\2', text) for text in words_list]\n",
        "\n",
        "    else:\n",
        "      return cell\n",
        "\n",
        "for col in cols_to_wrangle:\n",
        "  df[col] = df[col].apply(lambda cell: remove_special_characters(cell, remove_digits=True))"
      ]
    },
    {
      "cell_type": "code",
      "execution_count": 47,
      "metadata": {
        "colab": {
          "base_uri": "https://localhost:8080/",
          "height": 206
        },
        "id": "li4rkawrnpOh",
        "outputId": "da12007b-5b1d-4c45-f094-03e10d28d568"
      },
      "outputs": [
        {
          "data": {
            "text/html": [
              "<div>\n",
              "<style scoped>\n",
              "    .dataframe tbody tr th:only-of-type {\n",
              "        vertical-align: middle;\n",
              "    }\n",
              "\n",
              "    .dataframe tbody tr th {\n",
              "        vertical-align: top;\n",
              "    }\n",
              "\n",
              "    .dataframe thead th {\n",
              "        text-align: right;\n",
              "    }\n",
              "</style>\n",
              "<table border=\"1\" class=\"dataframe\">\n",
              "  <thead>\n",
              "    <tr style=\"text-align: right;\">\n",
              "      <th></th>\n",
              "      <th>id</th>\n",
              "      <th>title</th>\n",
              "      <th>overview</th>\n",
              "      <th>genres</th>\n",
              "      <th>popularity</th>\n",
              "      <th>vote_average</th>\n",
              "      <th>release_year</th>\n",
              "      <th>keywords</th>\n",
              "      <th>title_wrangled</th>\n",
              "    </tr>\n",
              "  </thead>\n",
              "  <tbody>\n",
              "    <tr>\n",
              "      <th>0</th>\n",
              "      <td>862</td>\n",
              "      <td>Toy Story</td>\n",
              "      <td>led by woody andy toys live happily in his roo...</td>\n",
              "      <td>[animation, comedy, family]</td>\n",
              "      <td>21.946943</td>\n",
              "      <td>7.7</td>\n",
              "      <td>1995.0</td>\n",
              "      <td>[jealousy, toy, boy, friendship, friends, riva...</td>\n",
              "      <td>toy story</td>\n",
              "    </tr>\n",
              "    <tr>\n",
              "      <th>1</th>\n",
              "      <td>8844</td>\n",
              "      <td>Jumanji</td>\n",
              "      <td>when siblings judy and peter discover an encha...</td>\n",
              "      <td>[adventure, fantasy, family]</td>\n",
              "      <td>17.015539</td>\n",
              "      <td>6.9</td>\n",
              "      <td>1995.0</td>\n",
              "      <td>[board game, disappearance, based on children ...</td>\n",
              "      <td>jumanji</td>\n",
              "    </tr>\n",
              "    <tr>\n",
              "      <th>2</th>\n",
              "      <td>15602</td>\n",
              "      <td>Grumpier Old Men</td>\n",
              "      <td>a family wedding reignites the ancient feud be...</td>\n",
              "      <td>[romance, comedy]</td>\n",
              "      <td>11.7129</td>\n",
              "      <td>6.5</td>\n",
              "      <td>1995.0</td>\n",
              "      <td>[fishing, best friend, duringcreditsstinger, o...</td>\n",
              "      <td>grumpier old men</td>\n",
              "    </tr>\n",
              "    <tr>\n",
              "      <th>3</th>\n",
              "      <td>31357</td>\n",
              "      <td>Waiting to Exhale</td>\n",
              "      <td>cheated on mistreated and stepped on the women...</td>\n",
              "      <td>[comedy, drama, romance]</td>\n",
              "      <td>3.859495</td>\n",
              "      <td>6.1</td>\n",
              "      <td>1995.0</td>\n",
              "      <td>[based on novel, interracial relationship, sin...</td>\n",
              "      <td>waiting to exhale</td>\n",
              "    </tr>\n",
              "    <tr>\n",
              "      <th>4</th>\n",
              "      <td>11862</td>\n",
              "      <td>Father of the Bride Part II</td>\n",
              "      <td>just when george banks has recovered from his ...</td>\n",
              "      <td>[comedy]</td>\n",
              "      <td>8.387519</td>\n",
              "      <td>5.7</td>\n",
              "      <td>1995.0</td>\n",
              "      <td>[baby, midlife crisis, confidence, aging, daug...</td>\n",
              "      <td>father of the bride part ii</td>\n",
              "    </tr>\n",
              "  </tbody>\n",
              "</table>\n",
              "</div>"
            ],
            "text/plain": [
              "      id                        title  \\\n",
              "0    862                    Toy Story   \n",
              "1   8844                      Jumanji   \n",
              "2  15602             Grumpier Old Men   \n",
              "3  31357            Waiting to Exhale   \n",
              "4  11862  Father of the Bride Part II   \n",
              "\n",
              "                                            overview  \\\n",
              "0  led by woody andy toys live happily in his roo...   \n",
              "1  when siblings judy and peter discover an encha...   \n",
              "2  a family wedding reignites the ancient feud be...   \n",
              "3  cheated on mistreated and stepped on the women...   \n",
              "4  just when george banks has recovered from his ...   \n",
              "\n",
              "                         genres  popularity  vote_average  release_year  \\\n",
              "0   [animation, comedy, family]   21.946943           7.7        1995.0   \n",
              "1  [adventure, fantasy, family]   17.015539           6.9        1995.0   \n",
              "2             [romance, comedy]     11.7129           6.5        1995.0   \n",
              "3      [comedy, drama, romance]    3.859495           6.1        1995.0   \n",
              "4                      [comedy]    8.387519           5.7        1995.0   \n",
              "\n",
              "                                            keywords  \\\n",
              "0  [jealousy, toy, boy, friendship, friends, riva...   \n",
              "1  [board game, disappearance, based on children ...   \n",
              "2  [fishing, best friend, duringcreditsstinger, o...   \n",
              "3  [based on novel, interracial relationship, sin...   \n",
              "4  [baby, midlife crisis, confidence, aging, daug...   \n",
              "\n",
              "                title_wrangled  \n",
              "0                    toy story  \n",
              "1                      jumanji  \n",
              "2             grumpier old men  \n",
              "3            waiting to exhale  \n",
              "4  father of the bride part ii  "
            ]
          },
          "execution_count": 47,
          "metadata": {},
          "output_type": "execute_result"
        }
      ],
      "source": [
        "df.head()"
      ]
    },
    {
      "cell_type": "code",
      "execution_count": 48,
      "metadata": {
        "colab": {
          "base_uri": "https://localhost:8080/",
          "height": 36
        },
        "id": "MOg3moN2nUii",
        "outputId": "b7d729c2-949f-4947-943e-99e8d36f8bb7"
      },
      "outputs": [
        {
          "data": {
            "text/plain": [
              "'set in modern times alex finds king arthur sword excalibur and must prove himself worthy of it '"
            ]
          },
          "execution_count": 48,
          "metadata": {},
          "output_type": "execute_result"
        }
      ],
      "source": [
        "df['overview'].iloc[54]"
      ]
    },
    {
      "cell_type": "markdown",
      "metadata": {
        "id": "qfAhK7CROM7T"
      },
      "source": [
        "### Tokenize"
      ]
    },
    {
      "cell_type": "code",
      "execution_count": 49,
      "metadata": {
        "id": "UAYgpi4IR0we"
      },
      "outputs": [],
      "source": [
        "# Function to safely tokenize words\n",
        "def safe_word_tokenize(text):\n",
        "    if isinstance(text, str):\n",
        "      return word_tokenize(text)\n",
        "    else:\n",
        "      return text\n",
        "\n",
        "for col in cols_to_wrangle:\n",
        "    df[col] = df[col].apply(safe_word_tokenize)"
      ]
    },
    {
      "cell_type": "code",
      "execution_count": 50,
      "metadata": {
        "colab": {
          "base_uri": "https://localhost:8080/",
          "height": 206
        },
        "id": "HzAA8m2WoIHZ",
        "outputId": "f2be0384-ec25-423f-84ab-9e74f38c9dec"
      },
      "outputs": [
        {
          "data": {
            "text/html": [
              "<div>\n",
              "<style scoped>\n",
              "    .dataframe tbody tr th:only-of-type {\n",
              "        vertical-align: middle;\n",
              "    }\n",
              "\n",
              "    .dataframe tbody tr th {\n",
              "        vertical-align: top;\n",
              "    }\n",
              "\n",
              "    .dataframe thead th {\n",
              "        text-align: right;\n",
              "    }\n",
              "</style>\n",
              "<table border=\"1\" class=\"dataframe\">\n",
              "  <thead>\n",
              "    <tr style=\"text-align: right;\">\n",
              "      <th></th>\n",
              "      <th>id</th>\n",
              "      <th>title</th>\n",
              "      <th>overview</th>\n",
              "      <th>genres</th>\n",
              "      <th>popularity</th>\n",
              "      <th>vote_average</th>\n",
              "      <th>release_year</th>\n",
              "      <th>keywords</th>\n",
              "      <th>title_wrangled</th>\n",
              "    </tr>\n",
              "  </thead>\n",
              "  <tbody>\n",
              "    <tr>\n",
              "      <th>0</th>\n",
              "      <td>862</td>\n",
              "      <td>Toy Story</td>\n",
              "      <td>[led, by, woody, andy, toys, live, happily, in...</td>\n",
              "      <td>[animation, comedy, family]</td>\n",
              "      <td>21.946943</td>\n",
              "      <td>7.7</td>\n",
              "      <td>1995.0</td>\n",
              "      <td>[jealousy, toy, boy, friendship, friends, riva...</td>\n",
              "      <td>[toy, story]</td>\n",
              "    </tr>\n",
              "    <tr>\n",
              "      <th>1</th>\n",
              "      <td>8844</td>\n",
              "      <td>Jumanji</td>\n",
              "      <td>[when, siblings, judy, and, peter, discover, a...</td>\n",
              "      <td>[adventure, fantasy, family]</td>\n",
              "      <td>17.015539</td>\n",
              "      <td>6.9</td>\n",
              "      <td>1995.0</td>\n",
              "      <td>[board game, disappearance, based on children ...</td>\n",
              "      <td>[jumanji]</td>\n",
              "    </tr>\n",
              "    <tr>\n",
              "      <th>2</th>\n",
              "      <td>15602</td>\n",
              "      <td>Grumpier Old Men</td>\n",
              "      <td>[a, family, wedding, reignites, the, ancient, ...</td>\n",
              "      <td>[romance, comedy]</td>\n",
              "      <td>11.7129</td>\n",
              "      <td>6.5</td>\n",
              "      <td>1995.0</td>\n",
              "      <td>[fishing, best friend, duringcreditsstinger, o...</td>\n",
              "      <td>[grumpier, old, men]</td>\n",
              "    </tr>\n",
              "    <tr>\n",
              "      <th>3</th>\n",
              "      <td>31357</td>\n",
              "      <td>Waiting to Exhale</td>\n",
              "      <td>[cheated, on, mistreated, and, stepped, on, th...</td>\n",
              "      <td>[comedy, drama, romance]</td>\n",
              "      <td>3.859495</td>\n",
              "      <td>6.1</td>\n",
              "      <td>1995.0</td>\n",
              "      <td>[based on novel, interracial relationship, sin...</td>\n",
              "      <td>[waiting, to, exhale]</td>\n",
              "    </tr>\n",
              "    <tr>\n",
              "      <th>4</th>\n",
              "      <td>11862</td>\n",
              "      <td>Father of the Bride Part II</td>\n",
              "      <td>[just, when, george, banks, has, recovered, fr...</td>\n",
              "      <td>[comedy]</td>\n",
              "      <td>8.387519</td>\n",
              "      <td>5.7</td>\n",
              "      <td>1995.0</td>\n",
              "      <td>[baby, midlife crisis, confidence, aging, daug...</td>\n",
              "      <td>[father, of, the, bride, part, ii]</td>\n",
              "    </tr>\n",
              "  </tbody>\n",
              "</table>\n",
              "</div>"
            ],
            "text/plain": [
              "      id                        title  \\\n",
              "0    862                    Toy Story   \n",
              "1   8844                      Jumanji   \n",
              "2  15602             Grumpier Old Men   \n",
              "3  31357            Waiting to Exhale   \n",
              "4  11862  Father of the Bride Part II   \n",
              "\n",
              "                                            overview  \\\n",
              "0  [led, by, woody, andy, toys, live, happily, in...   \n",
              "1  [when, siblings, judy, and, peter, discover, a...   \n",
              "2  [a, family, wedding, reignites, the, ancient, ...   \n",
              "3  [cheated, on, mistreated, and, stepped, on, th...   \n",
              "4  [just, when, george, banks, has, recovered, fr...   \n",
              "\n",
              "                         genres  popularity  vote_average  release_year  \\\n",
              "0   [animation, comedy, family]   21.946943           7.7        1995.0   \n",
              "1  [adventure, fantasy, family]   17.015539           6.9        1995.0   \n",
              "2             [romance, comedy]     11.7129           6.5        1995.0   \n",
              "3      [comedy, drama, romance]    3.859495           6.1        1995.0   \n",
              "4                      [comedy]    8.387519           5.7        1995.0   \n",
              "\n",
              "                                            keywords  \\\n",
              "0  [jealousy, toy, boy, friendship, friends, riva...   \n",
              "1  [board game, disappearance, based on children ...   \n",
              "2  [fishing, best friend, duringcreditsstinger, o...   \n",
              "3  [based on novel, interracial relationship, sin...   \n",
              "4  [baby, midlife crisis, confidence, aging, daug...   \n",
              "\n",
              "                       title_wrangled  \n",
              "0                        [toy, story]  \n",
              "1                           [jumanji]  \n",
              "2                [grumpier, old, men]  \n",
              "3               [waiting, to, exhale]  \n",
              "4  [father, of, the, bride, part, ii]  "
            ]
          },
          "execution_count": 50,
          "metadata": {},
          "output_type": "execute_result"
        }
      ],
      "source": [
        "df.head()"
      ]
    },
    {
      "cell_type": "markdown",
      "metadata": {
        "id": "jfhz0uwxOfWr"
      },
      "source": [
        "### Stopword Removal\n",
        "Removing words that are present in a list of unmeaningfull words like\n",
        "'i', 'me', 'my', 'myself', 'we', 'our', 'ours', 'ourselves', 'you', ... , or a person's name."
      ]
    },
    {
      "cell_type": "code",
      "execution_count": 51,
      "metadata": {
        "colab": {
          "base_uri": "https://localhost:8080/"
        },
        "id": "DjhVmHUrOpzJ",
        "outputId": "eae72f33-e82d-479f-b2ea-54c7bbe56e29"
      },
      "outputs": [
        {
          "name": "stdout",
          "output_type": "stream",
          "text": [
            "['i', 'me', 'my', 'myself', 'we', 'our', 'ours', 'ourselves', 'you', \"you're\", \"you've\", \"you'll\", \"you'd\", 'your', 'yours', 'yourself', 'yourselves', 'he', 'him', 'his']\n"
          ]
        }
      ],
      "source": [
        "stopwords = nltk.corpus.stopwords.words('english')\n",
        "print(stopwords[0:20])"
      ]
    },
    {
      "cell_type": "code",
      "execution_count": 52,
      "metadata": {
        "id": "Mx7D2omApYB5"
      },
      "outputs": [],
      "source": [
        "# Get lists of male and female names\n",
        "male_names = [name.lower() for name in names.words('male.txt')]\n",
        "female_names = [name.lower() for name in names.words('female.txt')]\n",
        "\n",
        "# add names to stopwords list\n",
        "stopwords.extend(male_names)\n",
        "stopwords.extend(female_names)"
      ]
    },
    {
      "cell_type": "code",
      "execution_count": 53,
      "metadata": {
        "colab": {
          "base_uri": "https://localhost:8080/"
        },
        "id": "LuHtMet7oWGe",
        "outputId": "285ccb2a-bf82-480b-a0d6-624a700a67eb"
      },
      "outputs": [
        {
          "name": "stdout",
          "output_type": "stream",
          "text": [
            "Warning: The input is not a list: nan\n",
            "Warning: The input is not a list: nan\n",
            "Warning: The input is not a list: nan\n",
            "Warning: The input is not a list: nan\n",
            "Warning: The input is not a list: nan\n",
            "Warning: The input is not a list: nan\n",
            "Warning: The input is not a list: nan\n",
            "Warning: The input is not a list: nan\n",
            "Warning: The input is not a list: nan\n"
          ]
        }
      ],
      "source": [
        "# Function to remove stopwords\n",
        "def remove_stopwords(words, stopwords):\n",
        "    try:\n",
        "        if isinstance(words, list):\n",
        "            words = [w.strip() for w in words if w.lower() not in stopwords]\n",
        "        else:\n",
        "            print(\"Warning: The input is not a list:\", words)\n",
        "    except Exception as e:\n",
        "        print('Error:', e, 'Words:', words)\n",
        "    return words\n",
        "\n",
        "# Apply the function to each column in cols_to_wrangle\n",
        "for col in cols_to_wrangle:\n",
        "    df[col] = df[col].apply(lambda cell: remove_stopwords(cell, stopwords))"
      ]
    },
    {
      "cell_type": "code",
      "execution_count": 54,
      "metadata": {
        "colab": {
          "base_uri": "https://localhost:8080/",
          "height": 206
        },
        "id": "r-QRaB6Pobew",
        "outputId": "50eb07cb-e861-40f5-b825-232d63cc88d0"
      },
      "outputs": [
        {
          "data": {
            "text/html": [
              "<div>\n",
              "<style scoped>\n",
              "    .dataframe tbody tr th:only-of-type {\n",
              "        vertical-align: middle;\n",
              "    }\n",
              "\n",
              "    .dataframe tbody tr th {\n",
              "        vertical-align: top;\n",
              "    }\n",
              "\n",
              "    .dataframe thead th {\n",
              "        text-align: right;\n",
              "    }\n",
              "</style>\n",
              "<table border=\"1\" class=\"dataframe\">\n",
              "  <thead>\n",
              "    <tr style=\"text-align: right;\">\n",
              "      <th></th>\n",
              "      <th>id</th>\n",
              "      <th>title</th>\n",
              "      <th>overview</th>\n",
              "      <th>genres</th>\n",
              "      <th>popularity</th>\n",
              "      <th>vote_average</th>\n",
              "      <th>release_year</th>\n",
              "      <th>keywords</th>\n",
              "      <th>title_wrangled</th>\n",
              "    </tr>\n",
              "  </thead>\n",
              "  <tbody>\n",
              "    <tr>\n",
              "      <th>0</th>\n",
              "      <td>862</td>\n",
              "      <td>Toy Story</td>\n",
              "      <td>[led, toys, live, happily, room, birthday, bri...</td>\n",
              "      <td>[animation, comedy, family]</td>\n",
              "      <td>21.946943</td>\n",
              "      <td>7.7</td>\n",
              "      <td>1995.0</td>\n",
              "      <td>[jealousy, toy, boy, friendship, friends, riva...</td>\n",
              "      <td>[toy, story]</td>\n",
              "    </tr>\n",
              "    <tr>\n",
              "      <th>1</th>\n",
              "      <td>8844</td>\n",
              "      <td>Jumanji</td>\n",
              "      <td>[siblings, discover, enchanted, board, game, o...</td>\n",
              "      <td>[adventure, fantasy, family]</td>\n",
              "      <td>17.015539</td>\n",
              "      <td>6.9</td>\n",
              "      <td>1995.0</td>\n",
              "      <td>[board game, disappearance, based on children ...</td>\n",
              "      <td>[jumanji]</td>\n",
              "    </tr>\n",
              "    <tr>\n",
              "      <th>2</th>\n",
              "      <td>15602</td>\n",
              "      <td>Grumpier Old Men</td>\n",
              "      <td>[family, wedding, reignites, ancient, feud, ne...</td>\n",
              "      <td>[romance, comedy]</td>\n",
              "      <td>11.7129</td>\n",
              "      <td>6.5</td>\n",
              "      <td>1995.0</td>\n",
              "      <td>[fishing, best friend, duringcreditsstinger, o...</td>\n",
              "      <td>[grumpier, old, men]</td>\n",
              "    </tr>\n",
              "    <tr>\n",
              "      <th>3</th>\n",
              "      <td>31357</td>\n",
              "      <td>Waiting to Exhale</td>\n",
              "      <td>[cheated, mistreated, stepped, women, holding,...</td>\n",
              "      <td>[comedy, drama, romance]</td>\n",
              "      <td>3.859495</td>\n",
              "      <td>6.1</td>\n",
              "      <td>1995.0</td>\n",
              "      <td>[based on novel, interracial relationship, sin...</td>\n",
              "      <td>[waiting, exhale]</td>\n",
              "    </tr>\n",
              "    <tr>\n",
              "      <th>4</th>\n",
              "      <td>11862</td>\n",
              "      <td>Father of the Bride Part II</td>\n",
              "      <td>[banks, recovered, daughter, wedding, receives...</td>\n",
              "      <td>[comedy]</td>\n",
              "      <td>8.387519</td>\n",
              "      <td>5.7</td>\n",
              "      <td>1995.0</td>\n",
              "      <td>[baby, midlife crisis, confidence, aging, daug...</td>\n",
              "      <td>[father, part, ii]</td>\n",
              "    </tr>\n",
              "  </tbody>\n",
              "</table>\n",
              "</div>"
            ],
            "text/plain": [
              "      id                        title  \\\n",
              "0    862                    Toy Story   \n",
              "1   8844                      Jumanji   \n",
              "2  15602             Grumpier Old Men   \n",
              "3  31357            Waiting to Exhale   \n",
              "4  11862  Father of the Bride Part II   \n",
              "\n",
              "                                            overview  \\\n",
              "0  [led, toys, live, happily, room, birthday, bri...   \n",
              "1  [siblings, discover, enchanted, board, game, o...   \n",
              "2  [family, wedding, reignites, ancient, feud, ne...   \n",
              "3  [cheated, mistreated, stepped, women, holding,...   \n",
              "4  [banks, recovered, daughter, wedding, receives...   \n",
              "\n",
              "                         genres  popularity  vote_average  release_year  \\\n",
              "0   [animation, comedy, family]   21.946943           7.7        1995.0   \n",
              "1  [adventure, fantasy, family]   17.015539           6.9        1995.0   \n",
              "2             [romance, comedy]     11.7129           6.5        1995.0   \n",
              "3      [comedy, drama, romance]    3.859495           6.1        1995.0   \n",
              "4                      [comedy]    8.387519           5.7        1995.0   \n",
              "\n",
              "                                            keywords        title_wrangled  \n",
              "0  [jealousy, toy, boy, friendship, friends, riva...          [toy, story]  \n",
              "1  [board game, disappearance, based on children ...             [jumanji]  \n",
              "2  [fishing, best friend, duringcreditsstinger, o...  [grumpier, old, men]  \n",
              "3  [based on novel, interracial relationship, sin...     [waiting, exhale]  \n",
              "4  [baby, midlife crisis, confidence, aging, daug...    [father, part, ii]  "
            ]
          },
          "execution_count": 54,
          "metadata": {},
          "output_type": "execute_result"
        }
      ],
      "source": [
        "df.head()"
      ]
    },
    {
      "cell_type": "markdown",
      "metadata": {
        "id": "zAqWYw2KOPtG"
      },
      "source": [
        "### Stemming"
      ]
    },
    {
      "cell_type": "code",
      "execution_count": 55,
      "metadata": {
        "id": "fjvgIvErOvws"
      },
      "outputs": [],
      "source": [
        "# Function for stemming words\n",
        "def stem_words(word_list):\n",
        "    ps = PorterStemmer()\n",
        "    if isinstance(word_list, list):\n",
        "        try:\n",
        "            return [ps.stem(word) for word in word_list]\n",
        "        except Exception as e:\n",
        "            print('error: ', e, word_list)\n",
        "            return word_list\n",
        "    return word_list\n",
        "\n",
        "for col in cols_to_wrangle:\n",
        "    df[col] = df[col].apply(stem_words)"
      ]
    },
    {
      "cell_type": "code",
      "execution_count": 56,
      "metadata": {
        "colab": {
          "base_uri": "https://localhost:8080/",
          "height": 206
        },
        "id": "3-NziVZPNv1m",
        "outputId": "7851a077-dc96-4387-ad70-638f45ca7df3"
      },
      "outputs": [
        {
          "data": {
            "text/html": [
              "<div>\n",
              "<style scoped>\n",
              "    .dataframe tbody tr th:only-of-type {\n",
              "        vertical-align: middle;\n",
              "    }\n",
              "\n",
              "    .dataframe tbody tr th {\n",
              "        vertical-align: top;\n",
              "    }\n",
              "\n",
              "    .dataframe thead th {\n",
              "        text-align: right;\n",
              "    }\n",
              "</style>\n",
              "<table border=\"1\" class=\"dataframe\">\n",
              "  <thead>\n",
              "    <tr style=\"text-align: right;\">\n",
              "      <th></th>\n",
              "      <th>id</th>\n",
              "      <th>title</th>\n",
              "      <th>overview</th>\n",
              "      <th>genres</th>\n",
              "      <th>popularity</th>\n",
              "      <th>vote_average</th>\n",
              "      <th>release_year</th>\n",
              "      <th>keywords</th>\n",
              "      <th>title_wrangled</th>\n",
              "    </tr>\n",
              "  </thead>\n",
              "  <tbody>\n",
              "    <tr>\n",
              "      <th>0</th>\n",
              "      <td>862</td>\n",
              "      <td>Toy Story</td>\n",
              "      <td>[led, toy, live, happili, room, birthday, brin...</td>\n",
              "      <td>[anim, comedi, famili]</td>\n",
              "      <td>21.946943</td>\n",
              "      <td>7.7</td>\n",
              "      <td>1995.0</td>\n",
              "      <td>[jealousi, toy, boy, friendship, friend, rival...</td>\n",
              "      <td>[toy, stori]</td>\n",
              "    </tr>\n",
              "    <tr>\n",
              "      <th>1</th>\n",
              "      <td>8844</td>\n",
              "      <td>Jumanji</td>\n",
              "      <td>[sibl, discov, enchant, board, game, open, doo...</td>\n",
              "      <td>[adventur, fantasi, famili]</td>\n",
              "      <td>17.015539</td>\n",
              "      <td>6.9</td>\n",
              "      <td>1995.0</td>\n",
              "      <td>[board gam, disappear, based on children book,...</td>\n",
              "      <td>[jumanji]</td>\n",
              "    </tr>\n",
              "    <tr>\n",
              "      <th>2</th>\n",
              "      <td>15602</td>\n",
              "      <td>Grumpier Old Men</td>\n",
              "      <td>[famili, wed, reignit, ancient, feud, next, do...</td>\n",
              "      <td>[romanc, comedi]</td>\n",
              "      <td>11.7129</td>\n",
              "      <td>6.5</td>\n",
              "      <td>1995.0</td>\n",
              "      <td>[fish, best friend, duringcreditssting, old men]</td>\n",
              "      <td>[grumpier, old, men]</td>\n",
              "    </tr>\n",
              "    <tr>\n",
              "      <th>3</th>\n",
              "      <td>31357</td>\n",
              "      <td>Waiting to Exhale</td>\n",
              "      <td>[cheat, mistreat, step, women, hold, breath, w...</td>\n",
              "      <td>[comedi, drama, romanc]</td>\n",
              "      <td>3.859495</td>\n",
              "      <td>6.1</td>\n",
              "      <td>1995.0</td>\n",
              "      <td>[based on novel, interracial relationship, sin...</td>\n",
              "      <td>[wait, exhal]</td>\n",
              "    </tr>\n",
              "    <tr>\n",
              "      <th>4</th>\n",
              "      <td>11862</td>\n",
              "      <td>Father of the Bride Part II</td>\n",
              "      <td>[bank, recov, daughter, wed, receiv, news, pre...</td>\n",
              "      <td>[comedi]</td>\n",
              "      <td>8.387519</td>\n",
              "      <td>5.7</td>\n",
              "      <td>1995.0</td>\n",
              "      <td>[babi, midlife crisi, confid, age, daughter, m...</td>\n",
              "      <td>[father, part, ii]</td>\n",
              "    </tr>\n",
              "  </tbody>\n",
              "</table>\n",
              "</div>"
            ],
            "text/plain": [
              "      id                        title  \\\n",
              "0    862                    Toy Story   \n",
              "1   8844                      Jumanji   \n",
              "2  15602             Grumpier Old Men   \n",
              "3  31357            Waiting to Exhale   \n",
              "4  11862  Father of the Bride Part II   \n",
              "\n",
              "                                            overview  \\\n",
              "0  [led, toy, live, happili, room, birthday, brin...   \n",
              "1  [sibl, discov, enchant, board, game, open, doo...   \n",
              "2  [famili, wed, reignit, ancient, feud, next, do...   \n",
              "3  [cheat, mistreat, step, women, hold, breath, w...   \n",
              "4  [bank, recov, daughter, wed, receiv, news, pre...   \n",
              "\n",
              "                        genres  popularity  vote_average  release_year  \\\n",
              "0       [anim, comedi, famili]   21.946943           7.7        1995.0   \n",
              "1  [adventur, fantasi, famili]   17.015539           6.9        1995.0   \n",
              "2             [romanc, comedi]     11.7129           6.5        1995.0   \n",
              "3      [comedi, drama, romanc]    3.859495           6.1        1995.0   \n",
              "4                     [comedi]    8.387519           5.7        1995.0   \n",
              "\n",
              "                                            keywords        title_wrangled  \n",
              "0  [jealousi, toy, boy, friendship, friend, rival...          [toy, stori]  \n",
              "1  [board gam, disappear, based on children book,...             [jumanji]  \n",
              "2   [fish, best friend, duringcreditssting, old men]  [grumpier, old, men]  \n",
              "3  [based on novel, interracial relationship, sin...         [wait, exhal]  \n",
              "4  [babi, midlife crisi, confid, age, daughter, m...    [father, part, ii]  "
            ]
          },
          "execution_count": 56,
          "metadata": {},
          "output_type": "execute_result"
        }
      ],
      "source": [
        "df.head()"
      ]
    },
    {
      "cell_type": "code",
      "execution_count": 57,
      "metadata": {
        "colab": {
          "base_uri": "https://localhost:8080/"
        },
        "id": "0B954IQ7ouJR",
        "outputId": "f13a5c12-6d84-40f7-a86f-2d99b30a5753"
      },
      "outputs": [
        {
          "name": "stdout",
          "output_type": "stream",
          "text": [
            "['set', 'modern', 'time', 'find', 'sword', 'excalibur', 'must', 'prove']\n"
          ]
        }
      ],
      "source": [
        "print(df['overview'].iloc[54])"
      ]
    },
    {
      "cell_type": "code",
      "execution_count": 63,
      "metadata": {
        "id": "I-LULG2zR0mb"
      },
      "outputs": [],
      "source": [
        "# Get today's date\n",
        "today = datetime.today()\n",
        "\n",
        "# Format the date as YYYY-MM-DD\n",
        "formatted_date = today.strftime('%Y-%m-%d')\n",
        "\n",
        "# Save cleaned movie data\n",
        "df.to_csv(parent_dir + f'/data/processed/movies_cleaned_data_{formatted_date}.csv')"
      ]
    },
    {
      "cell_type": "code",
      "execution_count": null,
      "metadata": {},
      "outputs": [],
      "source": []
    }
  ],
  "metadata": {
    "colab": {
      "provenance": []
    },
    "kernelspec": {
      "display_name": "Python 3",
      "name": "python3"
    },
    "language_info": {
      "codemirror_mode": {
        "name": "ipython",
        "version": 3
      },
      "file_extension": ".py",
      "mimetype": "text/x-python",
      "name": "python",
      "nbconvert_exporter": "python",
      "pygments_lexer": "ipython3",
      "version": "3.12.1"
    }
  },
  "nbformat": 4,
  "nbformat_minor": 0
}
